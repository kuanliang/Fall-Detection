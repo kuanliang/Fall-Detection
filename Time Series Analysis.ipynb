{
 "cells": [
  {
   "cell_type": "code",
   "execution_count": 1,
   "metadata": {
    "collapsed": false
   },
   "outputs": [],
   "source": [
    "%matplotlib inline\n",
    "import os\n",
    "import numpy as np\n",
    "import pandas as pd\n",
    "import matplotlib.pyplot as plt\n",
    "import statsmodels.api as sm\n",
    "import seaborn as sb"
   ]
  },
  {
   "cell_type": "code",
   "execution_count": 2,
   "metadata": {
    "collapsed": true
   },
   "outputs": [],
   "source": [
    "sb.set_style('darkgrid')"
   ]
  },
  {
   "cell_type": "code",
   "execution_count": 3,
   "metadata": {
    "collapsed": true
   },
   "outputs": [],
   "source": [
    "path = os.getcwd() + 'table.csv'"
   ]
  },
  {
   "cell_type": "code",
   "execution_count": 4,
   "metadata": {
    "collapsed": true
   },
   "outputs": [],
   "source": [
    "stock_data = pd.read_csv('./table.csv')"
   ]
  },
  {
   "cell_type": "code",
   "execution_count": 5,
   "metadata": {
    "collapsed": false
   },
   "outputs": [
    {
     "name": "stderr",
     "output_type": "stream",
     "text": [
      "/usr/local/lib/python2.7/site-packages/ipykernel/__main__.py:1: FutureWarning: convert_objects is deprecated.  Use the data-type specific converters pd.to_datetime, pd.to_timedelta and pd.to_numeric.\n",
      "  if __name__ == '__main__':\n"
     ]
    }
   ],
   "source": [
    "stock_data['Date'] = stock_data['Date'].convert_objects(convert_dates='coerce')"
   ]
  },
  {
   "cell_type": "code",
   "execution_count": 7,
   "metadata": {
    "collapsed": false
   },
   "outputs": [],
   "source": [
    "stock_data['Date'] = pd.to_datetime(stock_data['Date'])"
   ]
  },
  {
   "cell_type": "code",
   "execution_count": 10,
   "metadata": {
    "collapsed": false
   },
   "outputs": [],
   "source": [
    "stock_data = stock_data.sort_values(by='Date')"
   ]
  },
  {
   "cell_type": "code",
   "execution_count": 12,
   "metadata": {
    "collapsed": false
   },
   "outputs": [],
   "source": [
    "stock_data = stock_data.set_index('Date')"
   ]
  },
  {
   "cell_type": "code",
   "execution_count": 13,
   "metadata": {
    "collapsed": false
   },
   "outputs": [
    {
     "data": {
      "text/html": [
       "<div>\n",
       "<table border=\"1\" class=\"dataframe\">\n",
       "  <thead>\n",
       "    <tr style=\"text-align: right;\">\n",
       "      <th></th>\n",
       "      <th>Open</th>\n",
       "      <th>High</th>\n",
       "      <th>Low</th>\n",
       "      <th>Close</th>\n",
       "      <th>Volume</th>\n",
       "      <th>Adj Close</th>\n",
       "    </tr>\n",
       "    <tr>\n",
       "      <th>Date</th>\n",
       "      <th></th>\n",
       "      <th></th>\n",
       "      <th></th>\n",
       "      <th></th>\n",
       "      <th></th>\n",
       "      <th></th>\n",
       "    </tr>\n",
       "  </thead>\n",
       "  <tbody>\n",
       "    <tr>\n",
       "      <th>2016-11-03</th>\n",
       "      <td>2098.800049</td>\n",
       "      <td>2102.560059</td>\n",
       "      <td>2085.229980</td>\n",
       "      <td>2088.659912</td>\n",
       "      <td>3886740000</td>\n",
       "      <td>2088.659912</td>\n",
       "    </tr>\n",
       "    <tr>\n",
       "      <th>2016-11-04</th>\n",
       "      <td>2083.790039</td>\n",
       "      <td>2099.070068</td>\n",
       "      <td>2083.790039</td>\n",
       "      <td>2085.179932</td>\n",
       "      <td>3837860000</td>\n",
       "      <td>2085.179932</td>\n",
       "    </tr>\n",
       "    <tr>\n",
       "      <th>2016-11-07</th>\n",
       "      <td>2100.590088</td>\n",
       "      <td>2132.000000</td>\n",
       "      <td>2100.590088</td>\n",
       "      <td>2131.520020</td>\n",
       "      <td>3736060000</td>\n",
       "      <td>2131.520020</td>\n",
       "    </tr>\n",
       "    <tr>\n",
       "      <th>2016-11-08</th>\n",
       "      <td>2129.919922</td>\n",
       "      <td>2146.870117</td>\n",
       "      <td>2123.560059</td>\n",
       "      <td>2139.560059</td>\n",
       "      <td>3916930000</td>\n",
       "      <td>2139.560059</td>\n",
       "    </tr>\n",
       "    <tr>\n",
       "      <th>2016-11-09</th>\n",
       "      <td>2131.560059</td>\n",
       "      <td>2170.100098</td>\n",
       "      <td>2125.350098</td>\n",
       "      <td>2163.260010</td>\n",
       "      <td>6264150000</td>\n",
       "      <td>2163.260010</td>\n",
       "    </tr>\n",
       "    <tr>\n",
       "      <th>2016-11-10</th>\n",
       "      <td>2167.489990</td>\n",
       "      <td>2182.300049</td>\n",
       "      <td>2151.169922</td>\n",
       "      <td>2167.479980</td>\n",
       "      <td>6451640000</td>\n",
       "      <td>2167.479980</td>\n",
       "    </tr>\n",
       "    <tr>\n",
       "      <th>2016-11-11</th>\n",
       "      <td>2162.709961</td>\n",
       "      <td>2165.919922</td>\n",
       "      <td>2152.489990</td>\n",
       "      <td>2164.449951</td>\n",
       "      <td>4988050000</td>\n",
       "      <td>2164.449951</td>\n",
       "    </tr>\n",
       "    <tr>\n",
       "      <th>2016-11-14</th>\n",
       "      <td>2165.639893</td>\n",
       "      <td>2171.360107</td>\n",
       "      <td>2156.080078</td>\n",
       "      <td>2164.199951</td>\n",
       "      <td>5367200000</td>\n",
       "      <td>2164.199951</td>\n",
       "    </tr>\n",
       "    <tr>\n",
       "      <th>2016-11-15</th>\n",
       "      <td>2168.290039</td>\n",
       "      <td>2180.840088</td>\n",
       "      <td>2166.379883</td>\n",
       "      <td>2180.389893</td>\n",
       "      <td>4543860000</td>\n",
       "      <td>2180.389893</td>\n",
       "    </tr>\n",
       "    <tr>\n",
       "      <th>2016-11-16</th>\n",
       "      <td>2177.530029</td>\n",
       "      <td>2179.219971</td>\n",
       "      <td>2172.199951</td>\n",
       "      <td>2176.939941</td>\n",
       "      <td>3830590000</td>\n",
       "      <td>2176.939941</td>\n",
       "    </tr>\n",
       "    <tr>\n",
       "      <th>2016-11-17</th>\n",
       "      <td>2178.610107</td>\n",
       "      <td>2188.060059</td>\n",
       "      <td>2176.649902</td>\n",
       "      <td>2187.120117</td>\n",
       "      <td>3809160000</td>\n",
       "      <td>2187.120117</td>\n",
       "    </tr>\n",
       "    <tr>\n",
       "      <th>2016-11-18</th>\n",
       "      <td>2186.850098</td>\n",
       "      <td>2189.889893</td>\n",
       "      <td>2180.379883</td>\n",
       "      <td>2181.899902</td>\n",
       "      <td>3572400000</td>\n",
       "      <td>2181.899902</td>\n",
       "    </tr>\n",
       "    <tr>\n",
       "      <th>2016-11-21</th>\n",
       "      <td>2186.429932</td>\n",
       "      <td>2198.699951</td>\n",
       "      <td>2186.429932</td>\n",
       "      <td>2198.179932</td>\n",
       "      <td>3607010000</td>\n",
       "      <td>2198.179932</td>\n",
       "    </tr>\n",
       "    <tr>\n",
       "      <th>2016-11-22</th>\n",
       "      <td>2201.560059</td>\n",
       "      <td>2204.800049</td>\n",
       "      <td>2194.510010</td>\n",
       "      <td>2202.939941</td>\n",
       "      <td>3957940000</td>\n",
       "      <td>2202.939941</td>\n",
       "    </tr>\n",
       "    <tr>\n",
       "      <th>2016-11-23</th>\n",
       "      <td>2198.550049</td>\n",
       "      <td>2204.719971</td>\n",
       "      <td>2194.510010</td>\n",
       "      <td>2204.719971</td>\n",
       "      <td>3418640000</td>\n",
       "      <td>2204.719971</td>\n",
       "    </tr>\n",
       "    <tr>\n",
       "      <th>2016-11-25</th>\n",
       "      <td>2206.270020</td>\n",
       "      <td>2213.350098</td>\n",
       "      <td>2206.270020</td>\n",
       "      <td>2213.350098</td>\n",
       "      <td>1584600000</td>\n",
       "      <td>2213.350098</td>\n",
       "    </tr>\n",
       "    <tr>\n",
       "      <th>2016-11-28</th>\n",
       "      <td>2210.209961</td>\n",
       "      <td>2211.139893</td>\n",
       "      <td>2200.360107</td>\n",
       "      <td>2201.719971</td>\n",
       "      <td>3505650000</td>\n",
       "      <td>2201.719971</td>\n",
       "    </tr>\n",
       "    <tr>\n",
       "      <th>2016-11-29</th>\n",
       "      <td>2200.760010</td>\n",
       "      <td>2210.459961</td>\n",
       "      <td>2198.149902</td>\n",
       "      <td>2204.659912</td>\n",
       "      <td>3706560000</td>\n",
       "      <td>2204.659912</td>\n",
       "    </tr>\n",
       "    <tr>\n",
       "      <th>2016-11-30</th>\n",
       "      <td>2204.969971</td>\n",
       "      <td>2214.100098</td>\n",
       "      <td>2198.810059</td>\n",
       "      <td>2198.810059</td>\n",
       "      <td>5533980000</td>\n",
       "      <td>2198.810059</td>\n",
       "    </tr>\n",
       "    <tr>\n",
       "      <th>2016-12-01</th>\n",
       "      <td>2200.169922</td>\n",
       "      <td>2202.600098</td>\n",
       "      <td>2187.439941</td>\n",
       "      <td>2191.080078</td>\n",
       "      <td>5063740000</td>\n",
       "      <td>2191.080078</td>\n",
       "    </tr>\n",
       "    <tr>\n",
       "      <th>2016-12-02</th>\n",
       "      <td>2191.120117</td>\n",
       "      <td>2197.949951</td>\n",
       "      <td>2188.370117</td>\n",
       "      <td>2191.949951</td>\n",
       "      <td>3779500000</td>\n",
       "      <td>2191.949951</td>\n",
       "    </tr>\n",
       "  </tbody>\n",
       "</table>\n",
       "</div>"
      ],
      "text/plain": [
       "                   Open         High          Low        Close      Volume  \\\n",
       "Date                                                                         \n",
       "2016-11-03  2098.800049  2102.560059  2085.229980  2088.659912  3886740000   \n",
       "2016-11-04  2083.790039  2099.070068  2083.790039  2085.179932  3837860000   \n",
       "2016-11-07  2100.590088  2132.000000  2100.590088  2131.520020  3736060000   \n",
       "2016-11-08  2129.919922  2146.870117  2123.560059  2139.560059  3916930000   \n",
       "2016-11-09  2131.560059  2170.100098  2125.350098  2163.260010  6264150000   \n",
       "2016-11-10  2167.489990  2182.300049  2151.169922  2167.479980  6451640000   \n",
       "2016-11-11  2162.709961  2165.919922  2152.489990  2164.449951  4988050000   \n",
       "2016-11-14  2165.639893  2171.360107  2156.080078  2164.199951  5367200000   \n",
       "2016-11-15  2168.290039  2180.840088  2166.379883  2180.389893  4543860000   \n",
       "2016-11-16  2177.530029  2179.219971  2172.199951  2176.939941  3830590000   \n",
       "2016-11-17  2178.610107  2188.060059  2176.649902  2187.120117  3809160000   \n",
       "2016-11-18  2186.850098  2189.889893  2180.379883  2181.899902  3572400000   \n",
       "2016-11-21  2186.429932  2198.699951  2186.429932  2198.179932  3607010000   \n",
       "2016-11-22  2201.560059  2204.800049  2194.510010  2202.939941  3957940000   \n",
       "2016-11-23  2198.550049  2204.719971  2194.510010  2204.719971  3418640000   \n",
       "2016-11-25  2206.270020  2213.350098  2206.270020  2213.350098  1584600000   \n",
       "2016-11-28  2210.209961  2211.139893  2200.360107  2201.719971  3505650000   \n",
       "2016-11-29  2200.760010  2210.459961  2198.149902  2204.659912  3706560000   \n",
       "2016-11-30  2204.969971  2214.100098  2198.810059  2198.810059  5533980000   \n",
       "2016-12-01  2200.169922  2202.600098  2187.439941  2191.080078  5063740000   \n",
       "2016-12-02  2191.120117  2197.949951  2188.370117  2191.949951  3779500000   \n",
       "\n",
       "              Adj Close  \n",
       "Date                     \n",
       "2016-11-03  2088.659912  \n",
       "2016-11-04  2085.179932  \n",
       "2016-11-07  2131.520020  \n",
       "2016-11-08  2139.560059  \n",
       "2016-11-09  2163.260010  \n",
       "2016-11-10  2167.479980  \n",
       "2016-11-11  2164.449951  \n",
       "2016-11-14  2164.199951  \n",
       "2016-11-15  2180.389893  \n",
       "2016-11-16  2176.939941  \n",
       "2016-11-17  2187.120117  \n",
       "2016-11-18  2181.899902  \n",
       "2016-11-21  2198.179932  \n",
       "2016-11-22  2202.939941  \n",
       "2016-11-23  2204.719971  \n",
       "2016-11-25  2213.350098  \n",
       "2016-11-28  2201.719971  \n",
       "2016-11-29  2204.659912  \n",
       "2016-11-30  2198.810059  \n",
       "2016-12-01  2191.080078  \n",
       "2016-12-02  2191.949951  "
      ]
     },
     "execution_count": 13,
     "metadata": {},
     "output_type": "execute_result"
    }
   ],
   "source": [
    "stock_data"
   ]
  },
  {
   "cell_type": "code",
   "execution_count": 14,
   "metadata": {
    "collapsed": false
   },
   "outputs": [
    {
     "data": {
      "text/plain": [
       "<matplotlib.axes._subplots.AxesSubplot at 0x1156bf450>"
      ]
     },
     "execution_count": 14,
     "metadata": {},
     "output_type": "execute_result"
    },
    {
     "data": {
      "image/png": "[encoded data removed]",
      "text/plain": [
       "<matplotlib.figure.Figure at 0x115698a90>"
      ]
     },
     "metadata": {},
     "output_type": "display_data"
    }
   ],
   "source": [
    "stock_data['Close'].plot(figsize=(16, 12))"
   ]
  },
  {
   "cell_type": "code",
   "execution_count": null,
   "metadata": {
    "collapsed": true
   },
   "outputs": [],
   "source": []
  }
 ],
 "metadata": {
  "kernelspec": {
   "display_name": "Python 2",
   "language": "python",
   "name": "python2"
  },
  "language_info": {
   "codemirror_mode": {
    "name": "ipython",
    "version": 2
   },
   "file_extension": ".py",
   "mimetype": "text/x-python",
   "name": "python",
   "nbconvert_exporter": "python",
   "pygments_lexer": "ipython2",
   "version": "2.7.12"
  },
  "latex_envs": {
   "bibliofile": "biblio.bib",
   "cite_by": "apalike",
   "current_citInitial": 1,
   "eqLabelWithNumbers": true,
   "eqNumInitial": 0
  }
 },
 "nbformat": 4,
 "nbformat_minor": 1
}
