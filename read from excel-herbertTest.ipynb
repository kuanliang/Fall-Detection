{
 "cells": [
  {
   "cell_type": "code",
   "execution_count": 1,
   "metadata": {
    "collapsed": true
   },
   "outputs": [],
   "source": [
    "from openpyxl import load_workbook"
   ]
  },
  {
   "cell_type": "code",
   "execution_count": 2,
   "metadata": {
    "collapsed": false
   },
   "outputs": [
    {
     "name": "stderr",
     "output_type": "stream",
     "text": [
      "/Users/hadoop1/.virtualenvs/fall-detection/lib/python2.7/site-packages/openpyxl/reader/worksheet.py:307: UserWarning: Unknown extension is not supported and will be removed\n",
      "  warn(msg)\n"
     ]
    }
   ],
   "source": [
    "wb2 = load_workbook('./data/Du_fri/上樓梯測試.xlsx')"
   ]
  },
  {
   "cell_type": "code",
   "execution_count": 3,
   "metadata": {
    "collapsed": false
   },
   "outputs": [],
   "source": [
    "for sheet in wb2.get_sheet_names():\n",
    "    sheet_ranges = wb2['1']"
   ]
  },
  {
   "cell_type": "code",
   "execution_count": 4,
   "metadata": {
    "collapsed": false
   },
   "outputs": [
    {
     "data": {
      "text/plain": [
       "<Worksheet \"1\">"
      ]
     },
     "execution_count": 4,
     "metadata": {},
     "output_type": "execute_result"
    }
   ],
   "source": [
    "sheet_ranges"
   ]
  },
  {
   "cell_type": "code",
   "execution_count": 5,
   "metadata": {
    "collapsed": false
   },
   "outputs": [
    {
     "name": "stdout",
     "output_type": "stream",
     "text": [
      "4\n"
     ]
    }
   ],
   "source": [
    "print(sheet_ranges['A6'].value)"
   ]
  },
  {
   "cell_type": "code",
   "execution_count": 6,
   "metadata": {
    "collapsed": false
   },
   "outputs": [],
   "source": [
    "import xlrd"
   ]
  },
  {
   "cell_type": "code",
   "execution_count": 7,
   "metadata": {
    "collapsed": true
   },
   "outputs": [],
   "source": [
    "import xlrd\n",
    "import csv"
   ]
  },
  {
   "cell_type": "code",
   "execution_count": 8,
   "metadata": {
    "collapsed": false
   },
   "outputs": [],
   "source": [
    "workbook = xlrd.open_workbook('./data/Du_fri/上樓梯測試.xlsx')"
   ]
  },
  {
   "cell_type": "code",
   "execution_count": 9,
   "metadata": {
    "collapsed": false
   },
   "outputs": [],
   "source": [
    "worksheet = workbook.sheet_by_name('1')"
   ]
  },
  {
   "cell_type": "code",
   "execution_count": 10,
   "metadata": {
    "collapsed": false
   },
   "outputs": [],
   "source": [
    "sheet_names = workbook.sheet_names()"
   ]
  },
  {
   "cell_type": "code",
   "execution_count": 11,
   "metadata": {
    "collapsed": true
   },
   "outputs": [],
   "source": [
    "worksheet = workbook.sheet_by_name(sheet_names[1])"
   ]
  },
  {
   "cell_type": "code",
   "execution_count": 12,
   "metadata": {
    "collapsed": true
   },
   "outputs": [],
   "source": [
    "import pandas as pd\n",
    "import numpy as np\n",
    "import xlrd\n",
    "import matplotlib.pyplot as plt\n",
    "import csv\n",
    "\n",
    "def plot_worksheet(path, sheetNo):\n",
    "    '''\n",
    "    '''\n",
    "    g_list = ['X(g)', 'Y(g)', 'Z(g)']\n",
    "    workbook = xlrd.open_workbook(path)\n",
    "    worksheet_names = workbook.sheet_names()\n",
    "    print worksheet_names\n",
    "    worksheet = workbook.sheet_by_name(worksheet_names[sheetNo])\n",
    "    temp_file = 'temp.csv'\n",
    "    csvfile = open(temp_file, 'w')\n",
    "    wr = csv.writer(csvfile, quoting=csv.QUOTE_ALL)\n",
    "    for rownum in range(worksheet.nrows):\n",
    "        wr.writerow(worksheet.row_values(rownum))\n",
    "    \n",
    "    csvfile.close()\n",
    "    \n",
    "    df = pd.read_csv(temp_file, skiprows=1, index_col='Time(s)')\n",
    "    \n",
    "    plt.plot(df[g_list])"
   ]
  },
  {
   "cell_type": "code",
   "execution_count": 13,
   "metadata": {
    "collapsed": true
   },
   "outputs": [],
   "source": [
    "%matplotlib inline"
   ]
  },
  {
   "cell_type": "code",
   "execution_count": 14,
   "metadata": {
    "collapsed": false
   },
   "outputs": [
    {
     "name": "stdout",
     "output_type": "stream",
     "text": [
      "[u'1', u'2', u'3', u'4', u'5', u'6', u'7', u'8', u'9', u'10', u'11', u'12', u'13', u'14', u'15', u'16', u'17', u'18', u'19', u'20']\n"
     ]
    },
    {
     "data": {
      "image/png": "[encoded data removed]",
      "text/plain": [
       "<matplotlib.figure.Figure at 0x10d5f9410>"
      ]
     },
     "metadata": {},
     "output_type": "display_data"
    }
   ],
   "source": [
    "plot_worksheet('./data/Du_fri/上樓梯測試.xlsx', 15)"
   ]
  },
  {
   "cell_type": "code",
   "execution_count": 28,
   "metadata": {
    "collapsed": false
   },
   "outputs": [],
   "source": [
    "import xlrd\n",
    "import csv\n",
    "import numpy as np\n",
    "\n",
    "value_list = ['X(g)', 'Y(g)', 'Z(g)', 'Theta(deg)', 'Phi(deg)']\n",
    "\n",
    "def xls_to_records(path):\n",
    "    '''read in xlsx file and parse worksheets to form matrix records\n",
    "    \n",
    "    Notes: columns are ['Number', 'X(g)', 'Y(g)', 'Z(g)', 'R(g)', 'Theta(deg)', 'Phi(deg)']\n",
    "    \n",
    "    Args: path\n",
    "    \n",
    "    Return: \n",
    "    \n",
    "    '''\n",
    "    record_all_list = []\n",
    "    workbook = xlrd.open_workbook(path)\n",
    "    for sheet_name in workbook.sheet_names()[:15]:\n",
    "        print 'processing workshet {}'.format(sheet_name)\n",
    "        # print(sheet_name)\n",
    "        worksheet = workbook.sheet_by_name(sheet_name)\n",
    "        temp_file = 'temp.csv'\n",
    "        csvfile = open(temp_file, 'w')\n",
    "        wr = csv.writer(csvfile, quoting=csv.QUOTE_ALL)\n",
    "        for rownum in range(worksheet.nrows):\n",
    "            wr.writerow(worksheet.row_values(rownum))\n",
    "        \n",
    "        csvfile.close()\n",
    "        \n",
    "        testDf = pd.read_csv(temp_file, skiprows=1, index_col='Time(s)')\n",
    "        \n",
    "        start_time = 15.0\n",
    "        end_time = 20.0\n",
    "        step_time = 0.25\n",
    "        \n",
    "        filteredDf = testDf[(testDf.index >= start_time) & (testDf.index < end_time)].copy()\n",
    "        \n",
    "        record_list = []\n",
    "        # return filteredDf\n",
    "        for i in range(10):\n",
    "            window_start = start_time + i * step_time\n",
    "            window_stop = start_time + 1 + i * step_time\n",
    "            # print(window_start)\n",
    "            # print(window_stop)\n",
    "            currentDf = filteredDf[(filteredDf.index >= window_start) & \n",
    "                                   (filteredDf.index < window_stop)].copy()\n",
    "            \n",
    "            print currentDf.shape\n",
    "        \n",
    "            nextDf = filteredDf[(filteredDf.index >= window_start + step_time) &\n",
    "                                (filteredDf.index < window_stop + step_time)].copy()\n",
    "            \n",
    "            print nextDf.shape\n",
    "        \n",
    "            record_values = get_record(currentDf, nextDf)\n",
    "        \n",
    "            record_list.append(record_values)\n",
    "            \n",
    "        print len(record_list)\n",
    "        \n",
    "        record_all_list = record_all_list + record_list\n",
    "        # print(currentDf.index)\n",
    "        # print(nextDf.index)\n",
    "        \n",
    "        # print(filteredDf.shape)\n",
    "        \n",
    "        g_list = ['X(g)', 'Y(g)', 'Z(g)']\n",
    "        \n",
    "        # plt.plot(testDf[g_list])\n",
    "        \n",
    "        \n",
    "        # print(testDf.shape)\n",
    "        \n",
    "    return np.array(record_all_list)"
   ]
  },
  {
   "cell_type": "code",
   "execution_count": 56,
   "metadata": {
    "collapsed": true
   },
   "outputs": [],
   "source": [
    "X = np.arange(6).reshape(3, 2)\n"
   ]
  },
  {
   "cell_type": "code",
   "execution_count": 58,
   "metadata": {
    "collapsed": false
   },
   "outputs": [
    {
     "data": {
      "text/plain": [
       "array([[0, 1],\n",
       "       [2, 3],\n",
       "       [4, 5]])"
      ]
     },
     "execution_count": 58,
     "metadata": {},
     "output_type": "execute_result"
    }
   ],
   "source": [
    "X"
   ]
  },
  {
   "cell_type": "code",
   "execution_count": 59,
   "metadata": {
    "collapsed": true
   },
   "outputs": [],
   "source": [
    "poly = PolynomialFeatures(2)"
   ]
  },
  {
   "cell_type": "code",
   "execution_count": 64,
   "metadata": {
    "collapsed": false
   },
   "outputs": [
    {
     "data": {
      "text/plain": [
       "array([[  1.,   0.,   1.,   0.],\n",
       "       [  1.,   2.,   3.,   6.],\n",
       "       [  1.,   4.,   5.,  20.]])"
      ]
     },
     "execution_count": 64,
     "metadata": {},
     "output_type": "execute_result"
    }
   ],
   "source": [
    "y = poly.fit_transform(X)\n",
    "y"
   ]
  },
  {
   "cell_type": "code",
   "execution_count": 62,
   "metadata": {
    "collapsed": true
   },
   "outputs": [],
   "source": [
    "poly = PolynomialFeatures(interaction_only=True)"
   ]
  },
  {
   "cell_type": "code",
   "execution_count": 63,
   "metadata": {
    "collapsed": false
   },
   "outputs": [
    {
     "data": {
      "text/plain": [
       "array([[  1.,   0.,   1.,   0.],\n",
       "       [  1.,   2.,   3.,   6.],\n",
       "       [  1.,   4.,   5.,  20.]])"
      ]
     },
     "execution_count": 63,
     "metadata": {},
     "output_type": "execute_result"
    }
   ],
   "source": [
    "poly.fit_transform(X)"
   ]
  },
  {
   "cell_type": "code",
   "execution_count": 26,
   "metadata": {
    "collapsed": false
   },
   "outputs": [],
   "source": [
    "import numpy as np\n",
    "from sklearn.preprocessing import PolynomialFeatures\n",
    "\n",
    "def get_record(currentDf, nextDf):\n",
    "    '''\n",
    "    '''\n",
    "    \n",
    "    value_list = ['X(g)', 'Y(g)', 'Z(g)', 'Theta(deg)', 'Phi(deg)']\n",
    "    # mean, absolute value of the mean, standard deviation, skew, kurtosis\n",
    "    means = currentDf.mean()[value_list].values\n",
    "    abs_means = np.abs(currentDf.mean())[value_list].values\n",
    "    stds = currentDf.std()[value_list].values\n",
    "    skews = currentDf.skew()[value_list].values\n",
    "    kurtosiss = currentDf.kurtosis()[value_list].values\n",
    "    # mean, standard deviation, skew, kurtosis differences between successive samples\n",
    "    diff_means = means - nextDf.mean()[value_list].values\n",
    "    diff_stds = stds - nextDf.std()[value_list].values\n",
    "    diff_skews = skews - nextDf.skew()[value_list].values\n",
    "    diff_kurtosiss = kurtosiss - nextDf.skew()[value_list].values\n",
    "    \n",
    "    # min, max, absolute value of the min and max\n",
    "    mins = currentDf.min()[value_list].values\n",
    "    maxs = currentDf.max()[value_list].values\n",
    "    abs_mins = np.abs(mins)\n",
    "    abs_maxs = np.abs(maxs)\n",
    "    \n",
    "    # mean of the cross product\n",
    "    poly = PolynomialFeatures(interaction_only=True, include_bias=False)\n",
    "    cross_products = poly.fit_transform(currentDf[value_list])[:, 5:].mean(axis=0)\n",
    "    abs_cross_products = np.abs(cross_products)\n",
    "    \n",
    "    final_record = np.concatenate((means, abs_means, stds, skews, kurtosiss,\n",
    "                                  diff_means, diff_stds, diff_skews, diff_kurtosiss,\n",
    "                                  mins, maxs, abs_mins, abs_maxs,\n",
    "                                  cross_products, abs_cross_products))\n",
    "    \n",
    "    return final_record"
   ]
  },
  {
   "cell_type": "code",
   "execution_count": 29,
   "metadata": {
    "collapsed": false
   },
   "outputs": [
    {
     "name": "stdout",
     "output_type": "stream",
     "text": [
      "processing workshet 1\n",
      "(50, 7)\n",
      "(50, 7)\n",
      "(50, 7)\n",
      "(49, 7)\n",
      "(49, 7)\n",
      "(50, 7)\n",
      "(50, 7)\n",
      "(50, 7)\n",
      "(50, 7)\n",
      "(50, 7)\n",
      "(50, 7)\n",
      "(50, 7)\n",
      "(50, 7)\n",
      "(50, 7)\n",
      "(50, 7)\n",
      "(50, 7)\n",
      "(50, 7)\n",
      "(50, 7)\n",
      "(50, 7)\n",
      "(50, 7)\n",
      "10\n",
      "processing workshet 2\n",
      "(49, 7)\n",
      "(50, 7)\n",
      "(50, 7)\n",
      "(48, 7)\n",
      "(48, 7)\n",
      "(51, 7)\n",
      "(51, 7)\n",
      "(51, 7)\n",
      "(51, 7)\n",
      "(49, 7)\n",
      "(49, 7)\n",
      "(51, 7)\n",
      "(51, 7)\n",
      "(49, 7)\n",
      "(49, 7)\n",
      "(49, 7)\n",
      "(49, 7)\n",
      "(50, 7)\n",
      "(50, 7)\n",
      "(50, 7)\n",
      "10\n",
      "processing workshet 3\n",
      "(49, 7)\n",
      "(49, 7)\n",
      "(49, 7)\n",
      "(51, 7)\n",
      "(51, 7)\n",
      "(50, 7)\n",
      "(50, 7)\n",
      "(50, 7)\n",
      "(50, 7)\n",
      "(50, 7)\n",
      "(50, 7)\n",
      "(51, 7)\n",
      "(51, 7)\n",
      "(50, 7)\n",
      "(50, 7)\n",
      "(50, 7)\n",
      "(50, 7)\n",
      "(50, 7)\n",
      "(50, 7)\n",
      "(49, 7)\n",
      "10\n",
      "processing workshet 4\n",
      "(48, 7)\n",
      "(48, 7)\n",
      "(48, 7)\n",
      "(48, 7)\n",
      "(48, 7)\n",
      "(49, 7)\n",
      "(49, 7)\n",
      "(49, 7)\n",
      "(49, 7)\n",
      "(49, 7)\n",
      "(49, 7)\n",
      "(49, 7)\n",
      "(49, 7)\n",
      "(50, 7)\n",
      "(50, 7)\n",
      "(49, 7)\n",
      "(49, 7)\n",
      "(48, 7)\n",
      "(48, 7)\n",
      "(48, 7)\n",
      "10\n",
      "processing workshet 5\n",
      "(50, 7)\n",
      "(51, 7)\n",
      "(51, 7)\n",
      "(50, 7)\n",
      "(50, 7)\n",
      "(50, 7)\n",
      "(50, 7)\n",
      "(50, 7)\n",
      "(50, 7)\n",
      "(49, 7)\n",
      "(49, 7)\n",
      "(50, 7)\n",
      "(50, 7)\n",
      "(50, 7)\n",
      "(50, 7)\n",
      "(50, 7)\n",
      "(50, 7)\n",
      "(50, 7)\n",
      "(50, 7)\n",
      "(50, 7)\n",
      "10\n",
      "processing workshet 6\n",
      "(51, 7)\n",
      "(51, 7)\n",
      "(51, 7)\n",
      "(49, 7)\n",
      "(49, 7)\n",
      "(50, 7)\n",
      "(50, 7)\n",
      "(50, 7)\n",
      "(50, 7)\n",
      "(51, 7)\n",
      "(51, 7)\n",
      "(51, 7)\n",
      "(51, 7)\n",
      "(49, 7)\n",
      "(49, 7)\n",
      "(50, 7)\n",
      "(50, 7)\n",
      "(49, 7)\n",
      "(49, 7)\n",
      "(49, 7)\n",
      "10\n",
      "processing workshet 7\n",
      "(50, 7)\n",
      "(50, 7)\n",
      "(50, 7)\n",
      "(50, 7)\n",
      "(50, 7)\n",
      "(50, 7)\n",
      "(50, 7)\n",
      "(50, 7)\n",
      "(50, 7)\n",
      "(50, 7)\n",
      "(50, 7)\n",
      "(50, 7)\n",
      "(50, 7)\n",
      "(50, 7)\n",
      "(50, 7)\n",
      "(49, 7)\n",
      "(49, 7)\n",
      "(48, 7)\n",
      "(48, 7)\n",
      "(49, 7)\n",
      "10\n",
      "processing workshet 8\n",
      "(49, 7)\n",
      "(49, 7)\n",
      "(49, 7)\n",
      "(50, 7)\n",
      "(50, 7)\n",
      "(49, 7)\n",
      "(49, 7)\n",
      "(49, 7)\n",
      "(49, 7)\n",
      "(50, 7)\n",
      "(50, 7)\n",
      "(49, 7)\n",
      "(49, 7)\n",
      "(49, 7)\n",
      "(49, 7)\n",
      "(50, 7)\n",
      "(50, 7)\n",
      "(49, 7)\n",
      "(49, 7)\n",
      "(49, 7)\n",
      "10\n",
      "processing workshet 9\n",
      "(50, 7)\n",
      "(50, 7)\n",
      "(50, 7)\n",
      "(49, 7)\n",
      "(49, 7)\n",
      "(49, 7)\n",
      "(49, 7)\n",
      "(47, 7)\n",
      "(47, 7)\n",
      "(49, 7)\n",
      "(49, 7)\n",
      "(48, 7)\n",
      "(48, 7)\n",
      "(49, 7)\n",
      "(49, 7)\n",
      "(49, 7)\n",
      "(49, 7)\n",
      "(48, 7)\n",
      "(48, 7)\n",
      "(49, 7)\n",
      "10\n",
      "processing workshet 10\n",
      "(49, 7)\n",
      "(50, 7)\n",
      "(50, 7)\n",
      "(49, 7)\n",
      "(49, 7)\n",
      "(51, 7)\n",
      "(51, 7)\n",
      "(51, 7)\n",
      "(51, 7)\n",
      "(50, 7)\n",
      "(50, 7)\n",
      "(51, 7)\n",
      "(51, 7)\n",
      "(48, 7)\n",
      "(48, 7)\n",
      "(49, 7)\n",
      "(49, 7)\n",
      "(48, 7)\n",
      "(48, 7)\n",
      "(49, 7)\n",
      "10\n",
      "processing workshet 11\n",
      "(49, 7)\n",
      "(50, 7)\n",
      "(50, 7)\n",
      "(50, 7)\n",
      "(50, 7)\n",
      "(50, 7)\n",
      "(50, 7)\n",
      "(50, 7)\n",
      "(50, 7)\n",
      "(50, 7)\n",
      "(50, 7)\n",
      "(50, 7)\n",
      "(50, 7)\n",
      "(50, 7)\n",
      "(50, 7)\n",
      "(50, 7)\n",
      "(50, 7)\n",
      "(51, 7)\n",
      "(51, 7)\n",
      "(49, 7)\n",
      "10\n",
      "processing workshet 12\n",
      "(50, 7)\n",
      "(51, 7)\n",
      "(51, 7)\n",
      "(49, 7)\n",
      "(49, 7)\n",
      "(50, 7)\n",
      "(50, 7)\n",
      "(49, 7)\n",
      "(49, 7)\n",
      "(49, 7)\n",
      "(49, 7)\n",
      "(50, 7)\n",
      "(50, 7)\n",
      "(50, 7)\n",
      "(50, 7)\n",
      "(51, 7)\n",
      "(51, 7)\n",
      "(50, 7)\n",
      "(50, 7)\n",
      "(50, 7)\n",
      "10\n",
      "processing workshet 13\n",
      "(49, 7)\n",
      "(49, 7)\n",
      "(49, 7)\n",
      "(50, 7)\n",
      "(50, 7)\n",
      "(51, 7)\n",
      "(51, 7)\n",
      "(51, 7)\n",
      "(51, 7)\n",
      "(49, 7)\n",
      "(49, 7)\n",
      "(50, 7)\n",
      "(50, 7)\n",
      "(50, 7)\n",
      "(50, 7)\n",
      "(50, 7)\n",
      "(50, 7)\n",
      "(51, 7)\n",
      "(51, 7)\n",
      "(50, 7)\n",
      "10\n",
      "processing workshet 14\n",
      "(50, 7)\n",
      "(48, 7)\n",
      "(48, 7)\n",
      "(50, 7)\n",
      "(50, 7)\n",
      "(50, 7)\n",
      "(50, 7)\n",
      "(50, 7)\n",
      "(50, 7)\n",
      "(52, 7)\n",
      "(52, 7)\n",
      "(50, 7)\n",
      "(50, 7)\n",
      "(50, 7)\n",
      "(50, 7)\n",
      "(50, 7)\n",
      "(50, 7)\n",
      "(49, 7)\n",
      "(49, 7)\n",
      "(47, 7)\n",
      "10\n",
      "processing workshet 15\n",
      "(49, 7)\n",
      "(49, 7)\n",
      "(49, 7)\n",
      "(50, 7)\n",
      "(50, 7)\n",
      "(49, 7)\n",
      "(49, 7)\n",
      "(49, 7)\n",
      "(49, 7)\n",
      "(48, 7)\n",
      "(48, 7)\n",
      "(50, 7)\n",
      "(50, 7)\n",
      "(50, 7)\n",
      "(50, 7)\n",
      "(51, 7)\n",
      "(51, 7)\n",
      "(50, 7)\n",
      "(50, 7)\n",
      "(48, 7)\n",
      "10\n"
     ]
    }
   ],
   "source": [
    "record_test = xls_to_records('./data/Du_fri/上樓梯測試.xlsx')"
   ]
  },
  {
   "cell_type": "code",
   "execution_count": 30,
   "metadata": {
    "collapsed": false
   },
   "outputs": [
    {
     "data": {
      "text/plain": [
       "array([[  1.61897816e-01,   9.32708689e-01,  -1.74022578e-01, ...,\n",
       "          1.76481089e+01,   1.40266461e+01,   8.06479133e+03],\n",
       "       [  1.58773884e-01,   9.29487146e-01,  -1.46902937e-01, ...,\n",
       "          1.48056641e+01,   1.19072101e+01,   7.95828208e+03],\n",
       "       [  1.68270002e-01,   1.00812579e+00,  -1.16509940e-01, ...,\n",
       "          1.15545318e+01,   9.46141855e+00,   7.79145478e+03],\n",
       "       ..., \n",
       "       [ -3.63567205e-01,   8.66930389e-01,  -1.27554080e-01, ...,\n",
       "          1.32679618e+01,   1.40445957e+01,   1.10244512e+04],\n",
       "       [ -3.94626218e-01,   8.91163067e-01,  -9.98624837e-02, ...,\n",
       "          1.04336161e+01,   1.11797038e+01,   1.09441582e+04],\n",
       "       [ -3.57006944e-01,   8.73197771e-01,  -1.09005729e-01, ...,\n",
       "          1.11411624e+01,   1.22016907e+01,   1.08629102e+04]])"
      ]
     },
     "execution_count": 30,
     "metadata": {},
     "output_type": "execute_result"
    }
   ],
   "source": [
    "record_test"
   ]
  },
  {
   "cell_type": "code",
   "execution_count": 34,
   "metadata": {
    "collapsed": false
   },
   "outputs": [],
   "source": [
    "record_test_np = np.array(record_test)"
   ]
  },
  {
   "cell_type": "code",
   "execution_count": 36,
   "metadata": {
    "collapsed": false
   },
   "outputs": [
    {
     "data": {
      "text/plain": [
       "85"
      ]
     },
     "execution_count": 36,
     "metadata": {},
     "output_type": "execute_result"
    }
   ],
   "source": [
    "len(record_test_np[0])"
   ]
  },
  {
   "cell_type": "code",
   "execution_count": 32,
   "metadata": {
    "collapsed": false
   },
   "outputs": [
    {
     "data": {
      "text/plain": [
       "(150, 85)"
      ]
     },
     "execution_count": 32,
     "metadata": {},
     "output_type": "execute_result"
    }
   ],
   "source": [
    "np.array(record_test).shape"
   ]
  },
  {
   "cell_type": "code",
   "execution_count": 73,
   "metadata": {
    "collapsed": false
   },
   "outputs": [
    {
     "data": {
      "text/plain": [
       "85"
      ]
     },
     "execution_count": 73,
     "metadata": {},
     "output_type": "execute_result"
    }
   ],
   "source": [
    "len(record_test)"
   ]
  },
  {
   "cell_type": "code",
   "execution_count": 40,
   "metadata": {
    "collapsed": false
   },
   "outputs": [
    {
     "ename": "NameError",
     "evalue": "name 'dataset' is not defined",
     "output_type": "error",
     "traceback": [
      "\u001b[0;31m---------------------------------------------------------------------------\u001b[0m",
      "\u001b[0;31mNameError\u001b[0m                                 Traceback (most recent call last)",
      "\u001b[0;32m<ipython-input-40-3a230f62a836>\u001b[0m in \u001b[0;36m<module>\u001b[0;34m()\u001b[0m\n\u001b[0;32m----> 1\u001b[0;31m \u001b[0mtestDf\u001b[0m \u001b[0;34m=\u001b[0m \u001b[0mdataset\u001b[0m\u001b[0;34m[\u001b[0m\u001b[0;34m(\u001b[0m\u001b[0mdataset\u001b[0m\u001b[0;34m.\u001b[0m\u001b[0mindex\u001b[0m \u001b[0;34m>=\u001b[0m \u001b[0;36m15\u001b[0m\u001b[0;34m)\u001b[0m \u001b[0;34m&\u001b[0m \u001b[0;34m(\u001b[0m\u001b[0mdataset\u001b[0m\u001b[0;34m.\u001b[0m\u001b[0mindex\u001b[0m \u001b[0;34m<\u001b[0m \u001b[0;36m20\u001b[0m\u001b[0;34m)\u001b[0m\u001b[0;34m]\u001b[0m\u001b[0;34m.\u001b[0m\u001b[0mcopy\u001b[0m\u001b[0;34m(\u001b[0m\u001b[0;34m)\u001b[0m\u001b[0;34m\u001b[0m\u001b[0m\n\u001b[0m",
      "\u001b[0;31mNameError\u001b[0m: name 'dataset' is not defined"
     ]
    }
   ],
   "source": [
    "testDf = dataset[(dataset.index >= 15) & (dataset.index < 20)].copy()"
   ]
  },
  {
   "cell_type": "code",
   "execution_count": null,
   "metadata": {
    "collapsed": true
   },
   "outputs": [],
   "source": [
    "currentDf = testDf[(testDf.index > 15) & (testDf.index < 16)].copy()"
   ]
  },
  {
   "cell_type": "code",
   "execution_count": null,
   "metadata": {
    "collapsed": true
   },
   "outputs": [],
   "source": [
    "nextDf = testDf[(testDf.index > 15.25) & (testDf.index < 16.25)].copy()"
   ]
  },
  {
   "cell_type": "code",
   "execution_count": 53,
   "metadata": {
    "collapsed": false
   },
   "outputs": [],
   "source": [
    "test_record = get_record(currentDf, nextDf)"
   ]
  },
  {
   "cell_type": "code",
   "execution_count": 54,
   "metadata": {
    "collapsed": false
   },
   "outputs": [
    {
     "data": {
      "text/plain": [
       "(85,)"
      ]
     },
     "execution_count": 54,
     "metadata": {},
     "output_type": "execute_result"
    }
   ],
   "source": [
    "test_record.shape"
   ]
  },
  {
   "cell_type": "code",
   "execution_count": 55,
   "metadata": {
    "collapsed": false
   },
   "outputs": [
    {
     "ename": "NameError",
     "evalue": "name 'means' is not defined",
     "output_type": "error",
     "traceback": [
      "\u001b[0;31m---------------------------------------------------------------------------\u001b[0m",
      "\u001b[0;31mNameError\u001b[0m                                 Traceback (most recent call last)",
      "\u001b[0;32m<ipython-input-55-e74249fccb53>\u001b[0m in \u001b[0;36m<module>\u001b[0;34m()\u001b[0m\n\u001b[0;32m----> 1\u001b[0;31m \u001b[0mnp\u001b[0m\u001b[0;34m.\u001b[0m\u001b[0mconcatenate\u001b[0m\u001b[0;34m(\u001b[0m\u001b[0;34m(\u001b[0m\u001b[0mmeans\u001b[0m\u001b[0;34m,\u001b[0m \u001b[0mstds\u001b[0m\u001b[0;34m,\u001b[0m \u001b[0mskews\u001b[0m\u001b[0;34m,\u001b[0m \u001b[0mkurtosiss\u001b[0m\u001b[0;34m)\u001b[0m\u001b[0;34m)\u001b[0m\u001b[0;34m\u001b[0m\u001b[0m\n\u001b[0m",
      "\u001b[0;31mNameError\u001b[0m: name 'means' is not defined"
     ]
    }
   ],
   "source": [
    "np.concatenate((means, stds, skews, kurtosiss)) "
   ]
  },
  {
   "cell_type": "code",
   "execution_count": 289,
   "metadata": {
    "collapsed": true
   },
   "outputs": [],
   "source": [
    "from sklearn.preprocessing import PolynomialFeatures"
   ]
  },
  {
   "cell_type": "code",
   "execution_count": 290,
   "metadata": {
    "collapsed": true
   },
   "outputs": [],
   "source": [
    "poly = PolynomialFeatures(interaction_only=True, include_bias=False)"
   ]
  },
  {
   "cell_type": "code",
   "execution_count": 298,
   "metadata": {
    "collapsed": false
   },
   "outputs": [
    {
     "data": {
      "text/plain": [
       "array([  1.52203058e-01,  -2.66817095e-02,   1.61763024e+01,\n",
       "         1.28945870e+01,  -1.60909874e-01,   9.36407116e+01,\n",
       "         7.47731357e+01,  -1.76481089e+01,  -1.40266461e+01,\n",
       "         8.06479133e+03])"
      ]
     },
     "execution_count": 298,
     "metadata": {},
     "output_type": "execute_result"
    }
   ],
   "source": [
    "poly.fit_transform(currentDf[value_list])[:,5:].mean(axis=0)"
   ]
  },
  {
   "cell_type": "code",
   "execution_count": 252,
   "metadata": {
    "collapsed": true
   },
   "outputs": [],
   "source": []
  },
  {
   "cell_type": "code",
   "execution_count": 259,
   "metadata": {
    "collapsed": false
   },
   "outputs": [],
   "source": [
    "means = currentDf.mean()[value_list].values"
   ]
  },
  {
   "cell_type": "code",
   "execution_count": 260,
   "metadata": {
    "collapsed": true
   },
   "outputs": [],
   "source": [
    "abs_means = np.abs(currentDf.mean())[value_list].values"
   ]
  },
  {
   "cell_type": "code",
   "execution_count": 263,
   "metadata": {
    "collapsed": true
   },
   "outputs": [],
   "source": [
    "stds = currentDf.std()[value_list].values"
   ]
  },
  {
   "cell_type": "code",
   "execution_count": 264,
   "metadata": {
    "collapsed": false
   },
   "outputs": [
    {
     "data": {
      "text/plain": [
       "array([ 0.0427327 ,  0.05384582,  0.05165335,  3.15112061,  2.23821513])"
      ]
     },
     "execution_count": 264,
     "metadata": {},
     "output_type": "execute_result"
    }
   ],
   "source": [
    "stds"
   ]
  },
  {
   "cell_type": "code",
   "execution_count": 267,
   "metadata": {
    "collapsed": true
   },
   "outputs": [],
   "source": [
    "skews = currentDf.skew()[value_list].values"
   ]
  },
  {
   "cell_type": "code",
   "execution_count": 269,
   "metadata": {
    "collapsed": true
   },
   "outputs": [],
   "source": [
    "kurtosiss = currentDf.kurtosis()[value_list].values"
   ]
  },
  {
   "cell_type": "code",
   "execution_count": 272,
   "metadata": {
    "collapsed": false
   },
   "outputs": [
    {
     "data": {
      "text/plain": [
       "(50, 6)"
      ]
     },
     "execution_count": 272,
     "metadata": {},
     "output_type": "execute_result"
    }
   ],
   "source": [
    "currentDf.shape"
   ]
  },
  {
   "cell_type": "code",
   "execution_count": 273,
   "metadata": {
    "collapsed": false
   },
   "outputs": [
    {
     "data": {
      "text/plain": [
       "(50, 6)"
      ]
     },
     "execution_count": 273,
     "metadata": {},
     "output_type": "execute_result"
    }
   ],
   "source": [
    "nextDf.shape"
   ]
  },
  {
   "cell_type": "code",
   "execution_count": 274,
   "metadata": {
    "collapsed": true
   },
   "outputs": [],
   "source": [
    "small_num = min(len(currentDf), len(nextDf))"
   ]
  },
  {
   "cell_type": "code",
   "execution_count": 276,
   "metadata": {
    "collapsed": false
   },
   "outputs": [
    {
     "data": {
      "text/plain": [
       "50"
      ]
     },
     "execution_count": 276,
     "metadata": {},
     "output_type": "execute_result"
    }
   ],
   "source": [
    "small_num"
   ]
  },
  {
   "cell_type": "code",
   "execution_count": null,
   "metadata": {
    "collapsed": true
   },
   "outputs": [],
   "source": []
  },
  {
   "cell_type": "code",
   "execution_count": 270,
   "metadata": {
    "collapsed": false
   },
   "outputs": [
    {
     "data": {
      "text/plain": [
       "array([ 0.28562116,  4.54774519,  3.11287276,  3.36687835, -0.55924904])"
      ]
     },
     "execution_count": 270,
     "metadata": {},
     "output_type": "execute_result"
    }
   ],
   "source": [
    "kurtosiss"
   ]
  },
  {
   "cell_type": "code",
   "execution_count": 268,
   "metadata": {
    "collapsed": false
   },
   "outputs": [
    {
     "data": {
      "text/plain": [
       "array([ 0.44385526,  1.51087325,  2.03975668, -2.07655595,  0.30915737])"
      ]
     },
     "execution_count": 268,
     "metadata": {},
     "output_type": "execute_result"
    }
   ],
   "source": [
    "skews"
   ]
  },
  {
   "cell_type": "code",
   "execution_count": 261,
   "metadata": {
    "collapsed": false
   },
   "outputs": [
    {
     "data": {
      "text/plain": [
       "array([   0.16189782,    0.93270869,    0.17402258,  100.50046564,\n",
       "         80.2035611 ])"
      ]
     },
     "execution_count": 261,
     "metadata": {},
     "output_type": "execute_result"
    }
   ],
   "source": [
    "abs_means"
   ]
  },
  {
   "cell_type": "code",
   "execution_count": 262,
   "metadata": {
    "collapsed": false
   },
   "outputs": [
    {
     "data": {
      "text/plain": [
       "array([   0.16189782,    0.93270869,   -0.17402258,  100.50046564,\n",
       "         80.2035611 ])"
      ]
     },
     "execution_count": 262,
     "metadata": {},
     "output_type": "execute_result"
    }
   ],
   "source": [
    "means"
   ]
  },
  {
   "cell_type": "code",
   "execution_count": 243,
   "metadata": {
    "collapsed": false
   },
   "outputs": [
    {
     "name": "stdout",
     "output_type": "stream",
     "text": [
      "15.25\n",
      "16.25\n",
      "Float64Index([ 15.254001,  15.274001,  15.313001,  15.314001,  15.354001,\n",
      "               15.354001,     15.402,     15.402, 15.4140005,  15.443001,\n",
      "                  15.454,  15.490001,     15.494,  15.536001,  15.536001,\n",
      "               15.583001,  15.583001,  15.594001,  15.630001,  15.634001,\n",
      "                  15.678,     15.678,  15.694001,  15.722001,  15.734001,\n",
      "                  15.765,  15.774001,     15.812,  15.814001,     15.862,\n",
      "                  15.862,  15.874001,  15.913001,  15.915001,     15.963,\n",
      "                  15.963,  15.974001,     16.013,     16.014,     16.062,\n",
      "               16.064001,     16.104,     16.104,  16.143002,  16.144001,\n",
      "                  16.187,  16.188002,     16.204,  16.237001,  16.244001],\n",
      "             dtype='float64', name='Time(s)')\n",
      "Float64Index([15.536001, 15.536001, 15.583001, 15.583001, 15.594001, 15.630001,\n",
      "              15.634001,    15.678,    15.678, 15.694001, 15.722001, 15.734001,\n",
      "                 15.765, 15.774001,    15.812, 15.814001,    15.862,    15.862,\n",
      "              15.874001, 15.913001, 15.915001,    15.963,    15.963, 15.974001,\n",
      "                 16.013,    16.014,    16.062, 16.064001,    16.104,    16.104,\n",
      "              16.143002, 16.144001,    16.187, 16.188002,    16.204, 16.237001,\n",
      "              16.244001,    16.288,    16.288,    16.304,    16.339,    16.344,\n",
      "                 16.388,    16.388, 16.404001,    16.441,    16.444,    16.492,\n",
      "                 16.492],\n",
      "             dtype='float64', name='Time(s)')\n",
      "15.25\n",
      "16.25\n",
      "Float64Index([15.259001, 15.280001,    15.298, 15.319001,    15.357, 15.358001,\n",
      "              15.405001, 15.405001, 15.418001,    15.449, 15.459001, 15.498001,\n",
      "              15.498001, 15.554001, 15.554001, 15.558001, 15.613001, 15.613001,\n",
      "              15.618001, 15.657001, 15.658001, 15.705001, 15.705001,    15.718,\n",
      "              15.755001,    15.758,    15.812,    15.812, 15.818001,    15.862,\n",
      "                 15.862, 15.879001, 15.905001, 15.918001, 15.957001, 15.958001,\n",
      "                 16.016,    16.016, 16.018002,    16.058,    16.058, 16.102001,\n",
      "              16.102001,    16.118, 16.150002,    16.158,    16.198,    16.198,\n",
      "                 16.245,    16.246],\n",
      "             dtype='float64', name='Time(s)')\n",
      "Float64Index([15.554001, 15.554001, 15.558001, 15.613001, 15.613001, 15.618001,\n",
      "              15.657001, 15.658001, 15.705001, 15.705001,    15.718, 15.755001,\n",
      "                 15.758,    15.812,    15.812, 15.818001,    15.862,    15.862,\n",
      "              15.879001, 15.905001, 15.918001, 15.957001, 15.958001,    16.016,\n",
      "                 16.016, 16.018002,    16.058,    16.058, 16.102001, 16.102001,\n",
      "                 16.118, 16.150002,    16.158,    16.198,    16.198,    16.245,\n",
      "                 16.246, 16.258001,    16.294,    16.298,    16.344,    16.344,\n",
      "              16.358002,    16.392,    16.398, 16.445002, 16.445002,\n",
      "                 16.458],\n",
      "             dtype='float64', name='Time(s)')\n",
      "15.25\n",
      "16.25\n",
      "Float64Index([ 15.282001,  15.283001,     15.331,  15.332001,  15.342001,\n",
      "                  15.383,  15.384001, 15.4470005, 15.4470005,  15.448001,\n",
      "               15.507001,  15.507001,  15.512001,  15.575001,  15.575001,\n",
      "               15.575001,  15.592001,  15.630001,  15.632001,  15.688001,\n",
      "               15.688001,     15.692,  15.747001,  15.747001,  15.752001,\n",
      "               15.808001,  15.808001,     15.812,  15.863001,  15.863001,\n",
      "               15.872001,  15.912001,  15.913001,     15.963,     15.963,\n",
      "               15.972001,  16.008001,  16.012001,     16.052,     16.052,\n",
      "               16.102001,  16.102001,  16.112001,     16.153,     16.153,\n",
      "               16.202002,  16.203001,     16.212,  16.244001],\n",
      "             dtype='float64', name='Time(s)')\n",
      "Float64Index([15.507001, 15.507001, 15.512001, 15.575001, 15.575001, 15.575001,\n",
      "              15.592001, 15.630001, 15.632001, 15.688001, 15.688001,    15.692,\n",
      "              15.747001, 15.747001, 15.752001, 15.808001, 15.808001,    15.812,\n",
      "              15.863001, 15.863001, 15.872001, 15.912001, 15.913001,    15.963,\n",
      "                 15.963, 15.972001, 16.008001, 16.012001,    16.052,    16.052,\n",
      "              16.102001, 16.102001, 16.112001,    16.153,    16.153, 16.202002,\n",
      "              16.203001,    16.212, 16.244001,    16.252,    16.288, 16.292002,\n",
      "                 16.332,    16.332, 16.373001, 16.373001,    16.392, 16.424002,\n",
      "              16.432001, 16.467001,    16.472],\n",
      "             dtype='float64', name='Time(s)')\n",
      "15.25\n",
      "16.25\n",
      "Float64Index([ 15.264001,  15.281001,     15.303,     15.345,     15.345,\n",
      "               15.361001, 15.3880005,  15.401001,  15.434001,  15.441001,\n",
      "                  15.475,  15.481001,  15.516001,  15.521001,  15.564001,\n",
      "               15.564001,     15.581,     15.612,     15.621,  15.662001,\n",
      "               15.662001,  15.712001,  15.712001,  15.761001,  15.761001,\n",
      "               15.771001,      15.81,  15.821001,  15.861001,  15.861001,\n",
      "               15.910001,  15.910001, 15.9210005,  15.958001,     15.961,\n",
      "                  16.009,     16.009,  16.022001,     16.059,  16.071001,\n",
      "               16.108002,     16.111,     16.165,     16.165,  16.181002,\n",
      "               16.223001,  16.223001,  16.241001],\n",
      "             dtype='float64', name='Time(s)')\n",
      "Float64Index([ 15.516001,  15.521001,  15.564001,  15.564001,     15.581,\n",
      "                  15.612,     15.621,  15.662001,  15.662001,  15.712001,\n",
      "               15.712001,  15.761001,  15.761001,  15.771001,      15.81,\n",
      "               15.821001,  15.861001,  15.861001,  15.910001,  15.910001,\n",
      "              15.9210005,  15.958001,     15.961,     16.009,     16.009,\n",
      "               16.022001,     16.059,  16.071001,  16.108002,     16.111,\n",
      "                  16.165,     16.165,  16.181002,  16.223001,  16.223001,\n",
      "               16.241001,     16.267,     16.281,     16.318,  16.321001,\n",
      "               16.366001,  16.366001,     16.382,     16.415,  16.421001,\n",
      "               16.463001,  16.463001,     16.481],\n",
      "             dtype='float64', name='Time(s)')\n",
      "15.25\n",
      "16.25\n",
      "Float64Index([ 15.259001,  15.261001,  15.340001,  15.340001,  15.340001,\n",
      "               15.340001,  15.370001,  15.380001,     15.402, 15.4210005,\n",
      "               15.440001,  15.466001,  15.481001,  15.500001,  15.530001,\n",
      "               15.540001,  15.561001,  15.594001,       15.6,  15.625001,\n",
      "                   15.64,  15.660001,  15.691001,  15.700001,  15.723001,\n",
      "               15.740001,  15.760001,  15.787001,  15.801001,  15.820001,\n",
      "               15.854001,  15.860001,  15.887001,  15.901001,  15.922001,\n",
      "               15.940001,     15.961, 15.9800005,       16.0,  16.022001,\n",
      "                  16.052,  16.060001,  16.081001,  16.108002,      16.12,\n",
      "               16.140001,     16.166,      16.18,     16.201,     16.232,\n",
      "               16.240002],\n",
      "             dtype='float64', name='Time(s)')\n",
      "Float64Index([ 15.500001,  15.530001,  15.540001,  15.561001,  15.594001,\n",
      "                    15.6,  15.625001,      15.64,  15.660001,  15.691001,\n",
      "               15.700001,  15.723001,  15.740001,  15.760001,  15.787001,\n",
      "               15.801001,  15.820001,  15.854001,  15.860001,  15.887001,\n",
      "               15.901001,  15.922001,  15.940001,     15.961, 15.9800005,\n",
      "                    16.0,  16.022001,     16.052,  16.060001,  16.081001,\n",
      "               16.108002,      16.12,  16.140001,     16.166,      16.18,\n",
      "                  16.201,     16.232,  16.240002,     16.267,     16.281,\n",
      "                  16.304,  16.320002,      16.34,     16.367,  16.380001,\n",
      "               16.400002,  16.428001,      16.44,  16.463001,     16.495],\n",
      "             dtype='float64', name='Time(s)')\n",
      "15.25\n",
      "16.25\n",
      "Float64Index([ 15.254001,  15.254001,  15.268001,  15.302001,  15.308001,\n",
      "               15.349001,  15.349001,     15.369,     15.397,     15.409,\n",
      "               15.445001,  15.448001,  15.495001,  15.495001,  15.509001,\n",
      "               15.543001,     15.548,  15.592001,  15.592001,  15.609001,\n",
      "               15.641001,  15.648001,  15.693001,  15.693001,  15.708001,\n",
      "               15.743001,  15.749001,  15.790001,  15.790001,     15.838,\n",
      "                  15.838,  15.848001,  15.879001, 15.8880005,  15.927001,\n",
      "                  15.928,  15.974001,  15.974001,  15.988001,     16.024,\n",
      "               16.029001,  16.074001,  16.074001,     16.089,  16.123001,\n",
      "                  16.128,     16.173,     16.173,  16.188002,     16.222,\n",
      "                  16.228],\n",
      "             dtype='float64', name='Time(s)')\n",
      "Float64Index([ 15.509001,  15.543001,     15.548,  15.592001,  15.592001,\n",
      "               15.609001,  15.641001,  15.648001,  15.693001,  15.693001,\n",
      "               15.708001,  15.743001,  15.749001,  15.790001,  15.790001,\n",
      "                  15.838,     15.838,  15.848001,  15.879001, 15.8880005,\n",
      "               15.927001,     15.928,  15.974001,  15.974001,  15.988001,\n",
      "                  16.024,  16.029001,  16.074001,  16.074001,     16.089,\n",
      "               16.123001,     16.128,     16.173,     16.173,  16.188002,\n",
      "                  16.222,     16.228,      16.27,      16.27,     16.318,\n",
      "                  16.318,     16.329,  16.366001,     16.368,  16.414001,\n",
      "               16.414001,  16.428001,     16.461,     16.468],\n",
      "             dtype='float64', name='Time(s)')\n",
      "15.25\n",
      "16.25\n",
      "Float64Index([ 15.271001,  15.282001, 15.3220005, 15.3220005,  15.340001,\n",
      "               15.372001,  15.382001,  15.424001,  15.424001,  15.440001,\n",
      "                  15.475, 15.4800005,     15.527,     15.527,  15.540001,\n",
      "               15.578001,  15.580001,  15.630001,  15.630001,      15.64,\n",
      "                   15.68,      15.68,  15.700001,  15.731001,  15.741001,\n",
      "               15.781001,  15.781001,  15.800001,  15.833001,  15.840001,\n",
      "               15.884001,  15.884001,  15.900001,  15.934001,  15.940001,\n",
      "               15.985001,  15.986001,       16.0,     16.028,      16.04,\n",
      "                  16.079,      16.08,     16.101,     16.131,  16.140001,\n",
      "                   16.18,      16.18,  16.230001,     16.231,     16.239],\n",
      "             dtype='float64', name='Time(s)')\n",
      "Float64Index([   15.527,    15.527, 15.540001, 15.578001, 15.580001, 15.630001,\n",
      "              15.630001,     15.64,     15.68,     15.68, 15.700001, 15.731001,\n",
      "              15.741001, 15.781001, 15.781001, 15.800001, 15.833001, 15.840001,\n",
      "              15.884001, 15.884001, 15.900001, 15.934001, 15.940001, 15.985001,\n",
      "              15.986001,      16.0,    16.028,     16.04,    16.079,     16.08,\n",
      "                 16.101,    16.131, 16.140001,     16.18,     16.18, 16.230001,\n",
      "                 16.231,    16.239, 16.279001, 16.279001, 16.328001, 16.328001,\n",
      "                 16.339,    16.377, 16.379002,    16.426,    16.426,    16.441,\n",
      "              16.477001,    16.479],\n",
      "             dtype='float64', name='Time(s)')\n",
      "15.25\n",
      "16.25\n",
      "Float64Index([15.294001, 15.294001, 15.308001, 15.342001, 15.347001, 15.387001,\n",
      "              15.387001,    15.435,    15.435, 15.448001, 15.484001, 15.488001,\n",
      "              15.533001,    15.534,    15.548, 15.583001,    15.588,    15.633,\n",
      "                 15.633, 15.648001, 15.682001, 15.688001, 15.731001, 15.731001,\n",
      "              15.748001, 15.780001,    15.798,    15.829,    15.838, 15.880001,\n",
      "              15.880001, 15.898001,     15.93, 15.938001, 15.981001, 15.981001,\n",
      "              15.998001,     16.03,    16.038, 16.081001, 16.081001, 16.098001,\n",
      "              16.130001,    16.138, 16.181002, 16.181002,    16.198,    16.231,\n",
      "                 16.238],\n",
      "             dtype='float64', name='Time(s)')\n",
      "Float64Index([15.533001,    15.534,    15.548, 15.583001,    15.588,    15.633,\n",
      "                 15.633, 15.648001, 15.682001, 15.688001, 15.731001, 15.731001,\n",
      "              15.748001, 15.780001,    15.798,    15.829,    15.838, 15.880001,\n",
      "              15.880001, 15.898001,     15.93, 15.938001, 15.981001, 15.981001,\n",
      "              15.998001,     16.03,    16.038, 16.081001, 16.081001, 16.098001,\n",
      "              16.130001,    16.138, 16.181002, 16.181002,    16.198,    16.231,\n",
      "                 16.238, 16.282001, 16.282001,    16.297,    16.333,    16.337,\n",
      "                 16.385,    16.385,    16.398,    16.434,    16.437, 16.483002,\n",
      "              16.483002, 16.498001],\n",
      "             dtype='float64', name='Time(s)')\n",
      "15.25\n",
      "16.25\n",
      "Float64Index([15.257001,     15.27, 15.301001,     15.31,    15.343, 15.351001,\n",
      "              15.387001, 15.391001, 15.438001, 15.438001, 15.450001, 15.483001,\n",
      "              15.491001, 15.525001, 15.530001, 15.565001, 15.570001,    15.607,\n",
      "              15.610001, 15.653001, 15.653001, 15.691001,    15.692, 15.710001,\n",
      "              15.735001,    15.751, 15.782001, 15.790001, 15.834001, 15.835001,\n",
      "                  15.85, 15.879001,     15.89, 15.927001,     15.93, 15.976001,\n",
      "              15.976001, 15.990001,    16.031,    16.031, 16.077002, 16.077002,\n",
      "                  16.09,    16.125, 16.130001,    16.165,     16.18, 16.206001,\n",
      "                 16.221, 16.248001],\n",
      "             dtype='float64', name='Time(s)')\n",
      "Float64Index([15.525001, 15.530001, 15.565001, 15.570001,    15.607, 15.610001,\n",
      "              15.653001, 15.653001, 15.691001,    15.692, 15.710001, 15.735001,\n",
      "                 15.751, 15.782001, 15.790001, 15.834001, 15.835001,     15.85,\n",
      "              15.879001,     15.89, 15.927001,     15.93, 15.976001, 15.976001,\n",
      "              15.990001,    16.031,    16.031, 16.077002, 16.077002,     16.09,\n",
      "                 16.125, 16.130001,    16.165,     16.18, 16.206001,    16.221,\n",
      "              16.248001, 16.261002,     16.29,    16.301,     16.34,     16.34,\n",
      "              16.390001, 16.390001, 16.411001,    16.441,    16.451,    16.489,\n",
      "              16.490002],\n",
      "             dtype='float64', name='Time(s)')\n",
      "15.25\n",
      "16.25\n",
      "Float64Index([15.2630005, 15.2630005,  15.282001,  15.313001,  15.321001,\n",
      "                  15.362,     15.362,  15.407001,  15.407001,  15.422001,\n",
      "               15.465001,  15.465001,     15.482,  15.510001,     15.522,\n",
      "               15.559001,  15.561001,  15.611001,  15.611001,  15.622001,\n",
      "               15.660001,  15.662001,  15.712001,  15.712001,  15.722001,\n",
      "              15.7630005, 15.7630005,  15.781001,     15.812, 15.8220005,\n",
      "               15.860001,  15.861001,  15.912001,  15.912001,  15.922001,\n",
      "                  15.961,     15.961,      16.01,      16.01,     16.021,\n",
      "                  16.055,     16.062,     16.103,     16.103,  16.122002,\n",
      "                  16.152,     16.162,  16.202002,  16.202002,     16.222],\n",
      "             dtype='float64', name='Time(s)')\n",
      "Float64Index([ 15.510001,     15.522,  15.559001,  15.561001,  15.611001,\n",
      "               15.611001,  15.622001,  15.660001,  15.662001,  15.712001,\n",
      "               15.712001,  15.722001, 15.7630005, 15.7630005,  15.781001,\n",
      "                  15.812, 15.8220005,  15.860001,  15.861001,  15.912001,\n",
      "               15.912001,  15.922001,     15.961,     15.961,      16.01,\n",
      "                   16.01,     16.021,     16.055,     16.062,     16.103,\n",
      "                  16.103,  16.122002,     16.152,     16.162,  16.202002,\n",
      "               16.202002,     16.222,     16.252,  16.262001,  16.303001,\n",
      "               16.303001,  16.321001,  16.352001,  16.362001,     16.403,\n",
      "                  16.403,  16.421001,  16.453001,     16.462],\n",
      "             dtype='float64', name='Time(s)')\n",
      "15.25\n",
      "16.25\n",
      "Float64Index([ 15.250001,  15.250001,  15.261001,  15.301001,  15.301001,\n",
      "               15.321001,  15.351001,  15.361001,     15.402,  15.403001,\n",
      "              15.4210005,     15.456,  15.460001, 15.5060005, 15.5060005,\n",
      "               15.521001,  15.556001,  15.561001,  15.606001,  15.606001,\n",
      "                  15.621,  15.655001,  15.661001,     15.704,     15.704,\n",
      "               15.721001,  15.754001,  15.761001,     15.803,     15.803,\n",
      "               15.821001,  15.852001,  15.861001,  15.903001,  15.903001,\n",
      "               15.920001,  15.953001,     15.961,  16.004002,  16.004002,\n",
      "                  16.021,     16.054,     16.062,     16.104,     16.104,\n",
      "                   16.12,     16.153,  16.161001,  16.202002,  16.202002],\n",
      "             dtype='float64', name='Time(s)')\n",
      "Float64Index([15.5060005, 15.5060005,  15.521001,  15.556001,  15.561001,\n",
      "               15.606001,  15.606001,     15.621,  15.655001,  15.661001,\n",
      "                  15.704,     15.704,  15.721001,  15.754001,  15.761001,\n",
      "                  15.803,     15.803,  15.821001,  15.852001,  15.861001,\n",
      "               15.903001,  15.903001,  15.920001,  15.953001,     15.961,\n",
      "               16.004002,  16.004002,     16.021,     16.054,     16.062,\n",
      "                  16.104,     16.104,      16.12,     16.153,  16.161001,\n",
      "               16.202002,  16.202002,  16.251001,  16.251001,  16.261002,\n",
      "               16.300001,     16.301,  16.321001,     16.351,     16.361,\n",
      "                  16.402,     16.402,      16.42,  16.452002,     16.461],\n",
      "             dtype='float64', name='Time(s)')\n",
      "15.25\n",
      "16.25\n",
      "Float64Index([15.2560005, 15.2560005,  15.273001,  15.301001,  15.315001,\n",
      "               15.348001,  15.354001,     15.395,  15.396001,  15.413001,\n",
      "               15.441001,     15.454,  15.488001,     15.496,  15.537001,\n",
      "               15.537001,  15.554001,  15.585001,  15.594001,     15.633,\n",
      "                  15.633,  15.679001,  15.679001,  15.694001,  15.726001,\n",
      "               15.734001,  15.773001,  15.773001,  15.821001,  15.821001,\n",
      "               15.835001,     15.869,  15.874001,  15.917001,  15.917001,\n",
      "               15.934001,  15.959001,  15.974001,     16.003,     16.014,\n",
      "                  16.051,     16.054,  16.098001,  16.098001,     16.114,\n",
      "                  16.145,  16.154001,     16.193,     16.193,     16.239,\n",
      "                  16.239],\n",
      "             dtype='float64', name='Time(s)')\n",
      "Float64Index([15.537001, 15.537001, 15.554001, 15.585001, 15.594001,    15.633,\n",
      "                 15.633, 15.679001, 15.679001, 15.694001, 15.726001, 15.734001,\n",
      "              15.773001, 15.773001, 15.821001, 15.821001, 15.835001,    15.869,\n",
      "              15.874001, 15.917001, 15.917001, 15.934001, 15.959001, 15.974001,\n",
      "                 16.003,    16.014,    16.051,    16.054, 16.098001, 16.098001,\n",
      "                 16.114,    16.145, 16.154001,    16.193,    16.193,    16.239,\n",
      "                 16.239, 16.254002, 16.286001,    16.294,    16.333,    16.333,\n",
      "              16.380001,    16.384,    16.427,    16.427,    16.443,    16.474,\n",
      "              16.484001],\n",
      "             dtype='float64', name='Time(s)')\n",
      "15.25\n",
      "16.25\n",
      "Float64Index([    15.286,     15.286,  15.344001,  15.344001,  15.346001,\n",
      "                  15.397,     15.397,  15.406001,  15.448001,  15.448001,\n",
      "               15.467001,  15.499001, 15.5060005,  15.549001,  15.549001,\n",
      "                    15.6,       15.6,  15.606001,  15.658001,  15.658001,\n",
      "                  15.666,  15.715001,  15.715001,  15.727001,  15.775001,\n",
      "               15.775001,  15.787001,  15.834001,  15.834001,  15.847001,\n",
      "               15.894001,  15.894001,  15.906001,  15.955001,  15.955001,\n",
      "               15.967001,     16.016,     16.016,     16.028,     16.075,\n",
      "                  16.075,     16.087,  16.136002,  16.136002,     16.148,\n",
      "               16.196001,  16.196001,     16.207,     16.249],\n",
      "             dtype='float64', name='Time(s)')\n",
      "Float64Index([15.5060005,  15.549001,  15.549001,       15.6,       15.6,\n",
      "               15.606001,  15.658001,  15.658001,     15.666,  15.715001,\n",
      "               15.715001,  15.727001,  15.775001,  15.775001,  15.787001,\n",
      "               15.834001,  15.834001,  15.847001,  15.894001,  15.894001,\n",
      "               15.906001,  15.955001,  15.955001,  15.967001,     16.016,\n",
      "                  16.016,     16.028,     16.075,     16.075,     16.087,\n",
      "               16.136002,  16.136002,     16.148,  16.196001,  16.196001,\n",
      "                  16.207,     16.249,      16.25,     16.266,  16.310001,\n",
      "               16.310001,  16.327002,      16.37,      16.37,  16.387001,\n",
      "                   16.43,      16.43,     16.447,     16.489,     16.489],\n",
      "             dtype='float64', name='Time(s)')\n",
      "15.25\n",
      "16.25\n",
      "Float64Index([15.287001, 15.287001, 15.299001, 15.340001, 15.340001, 15.359001,\n",
      "              15.401001, 15.401001, 15.419001, 15.462001, 15.462001, 15.479001,\n",
      "              15.523001, 15.523001,    15.541, 15.585001, 15.585001, 15.599001,\n",
      "                 15.647,    15.647, 15.660001, 15.709001, 15.709001, 15.719001,\n",
      "              15.771001, 15.771001, 15.780001, 15.835001, 15.835001,    15.838,\n",
      "                 15.895,    15.895, 15.899001, 15.958001, 15.958001, 15.960001,\n",
      "                 16.013,    16.014, 16.019001,    16.072,    16.072,    16.079,\n",
      "              16.136002, 16.136002,    16.138,    16.197,    16.197,\n",
      "                 16.198],\n",
      "             dtype='float64', name='Time(s)')\n",
      "Float64Index([15.523001, 15.523001,    15.541, 15.585001, 15.585001, 15.599001,\n",
      "                 15.647,    15.647, 15.660001, 15.709001, 15.709001, 15.719001,\n",
      "              15.771001, 15.771001, 15.780001, 15.835001, 15.835001,    15.838,\n",
      "                 15.895,    15.895, 15.899001, 15.958001, 15.958001, 15.960001,\n",
      "                 16.013,    16.014, 16.019001,    16.072,    16.072,    16.079,\n",
      "              16.136002, 16.136002,    16.138,    16.197,    16.197,    16.198,\n",
      "              16.258001, 16.258001,    16.259,    16.319,    16.319,    16.319,\n",
      "              16.380001, 16.380001, 16.380001,    16.398, 16.431002,    16.448,\n",
      "              16.484001,    16.488],\n",
      "             dtype='float64', name='Time(s)')\n",
      "15.25\n",
      "16.25\n",
      "Float64Index([15.292001, 15.292001, 15.309001, 15.348001, 15.351001, 15.400001,\n",
      "              15.400001, 15.408001, 15.453001, 15.453001, 15.469001,    15.508,\n",
      "                 15.508, 15.564001, 15.564001, 15.569001, 15.620001, 15.620001,\n",
      "              15.629001, 15.675001, 15.675001, 15.689001, 15.731001, 15.731001,\n",
      "              15.749001, 15.785001, 15.788001, 15.809001, 15.845001, 15.849001,\n",
      "              15.900001, 15.900001,    15.909,    15.956,    15.956, 15.969001,\n",
      "              16.012001, 16.012001, 16.029001,    16.069,    16.069, 16.126001,\n",
      "              16.126001, 16.129002,    16.176,    16.176, 16.234001, 16.234001,\n",
      "                 16.239],\n",
      "             dtype='float64', name='Time(s)')\n",
      "Float64Index([   15.508,    15.508, 15.564001, 15.564001, 15.569001, 15.620001,\n",
      "              15.620001, 15.629001, 15.675001, 15.675001, 15.689001, 15.731001,\n",
      "              15.731001, 15.749001, 15.785001, 15.788001, 15.809001, 15.845001,\n",
      "              15.849001, 15.900001, 15.900001,    15.909,    15.956,    15.956,\n",
      "              15.969001, 16.012001, 16.012001, 16.029001,    16.069,    16.069,\n",
      "              16.126001, 16.126001, 16.129002,    16.176,    16.176, 16.234001,\n",
      "              16.234001,    16.239,    16.291, 16.292002, 16.299002,     16.35,\n",
      "                  16.35, 16.359001, 16.407001,    16.408,    16.419, 16.466002,\n",
      "              16.466002,    16.479],\n",
      "             dtype='float64', name='Time(s)')\n",
      "15.25\n",
      "16.25\n",
      "Float64Index([   15.298,    15.298,    15.303, 15.361001, 15.361001, 15.361001,\n",
      "              15.424001, 15.424001, 15.424001, 15.441001, 15.484001, 15.484001,\n",
      "              15.502001, 15.547001, 15.547001,    15.562, 15.610001, 15.610001,\n",
      "              15.623001, 15.675001, 15.675001, 15.683001, 15.736001, 15.736001,\n",
      "              15.742001,    15.791,    15.791, 15.802001, 15.844001, 15.844001,\n",
      "                 15.862,    15.895,    15.902, 15.948001, 15.948001, 15.962001,\n",
      "              15.999001, 16.001001, 16.064001, 16.064001, 16.064001,    16.082,\n",
      "              16.123001, 16.123001,    16.141,    16.183,    16.184, 16.202002,\n",
      "                 16.249,    16.249],\n",
      "             dtype='float64', name='Time(s)')\n",
      "Float64Index([15.502001, 15.547001, 15.547001,    15.562, 15.610001, 15.610001,\n",
      "              15.623001, 15.675001, 15.675001, 15.683001, 15.736001, 15.736001,\n",
      "              15.742001,    15.791,    15.791, 15.802001, 15.844001, 15.844001,\n",
      "                 15.862,    15.895,    15.902, 15.948001, 15.948001, 15.962001,\n",
      "              15.999001, 16.001001, 16.064001, 16.064001, 16.064001,    16.082,\n",
      "              16.123001, 16.123001,    16.141,    16.183,    16.184, 16.202002,\n",
      "                 16.249,    16.249, 16.262001, 16.310001, 16.310001, 16.372002,\n",
      "              16.372002, 16.372002,    16.433,    16.433,    16.433, 16.452002,\n",
      "              16.494001, 16.494001],\n",
      "             dtype='float64', name='Time(s)')\n",
      "15.25\n",
      "16.25\n",
      "Float64Index([], dtype='float64', name='Time(s)')\n",
      "Float64Index([], dtype='float64', name='Time(s)')\n",
      "15.25\n",
      "16.25\n",
      "Float64Index([ 15.290001,  15.290001,  15.347001,  15.347001,  15.348001,\n",
      "               15.406001,  15.406001,  15.408001,  15.460001,  15.460001,\n",
      "               15.469001,  15.518001,  15.518001,     15.529,  15.577001,\n",
      "               15.577001,  15.589001,  15.636001,  15.636001,  15.649001,\n",
      "              15.6970005, 15.6970005, 15.7560005, 15.7560005,  15.759001,\n",
      "                  15.779,  15.811001,  15.819001,  15.861001,  15.861001,\n",
      "               15.878001,  15.912001,  15.920001,  15.971001,  15.972001,\n",
      "               15.979001,     16.033,     16.033,  16.039001,     16.118,\n",
      "                  16.118,     16.118,  16.119001,     16.139,  16.181002,\n",
      "               16.181002,  16.199001,  16.244001,  16.244001],\n",
      "             dtype='float64', name='Time(s)')\n",
      "Float64Index([ 15.518001,  15.518001,     15.529,  15.577001,  15.577001,\n",
      "               15.589001,  15.636001,  15.636001,  15.649001, 15.6970005,\n",
      "              15.6970005, 15.7560005, 15.7560005,  15.759001,     15.779,\n",
      "               15.811001,  15.819001,  15.861001,  15.861001,  15.878001,\n",
      "               15.912001,  15.920001,  15.971001,  15.972001,  15.979001,\n",
      "                  16.033,     16.033,  16.039001,     16.118,     16.118,\n",
      "                  16.118,  16.119001,     16.139,  16.181002,  16.181002,\n",
      "               16.199001,  16.244001,  16.244001,      16.26,     16.305,\n",
      "               16.306002,     16.319,      16.36,      16.36,     16.408,\n",
      "                  16.408,     16.419,  16.459002,  16.460001,     16.479],\n",
      "             dtype='float64', name='Time(s)')\n",
      "15.25\n",
      "16.25\n",
      "Float64Index([15.261001, 15.261001,    15.277, 15.313001,    15.317,    15.364,\n",
      "                 15.364, 15.377001, 15.419001, 15.419001, 15.436001,     15.47,\n",
      "              15.477001,     15.52,     15.52, 15.537001, 15.573001, 15.577001,\n",
      "              15.624001, 15.624001, 15.637001, 15.675001, 15.676001, 15.728001,\n",
      "              15.728001,    15.737,    15.779, 15.780001, 15.797001,    15.831,\n",
      "              15.837001, 15.889001,     15.89,    15.897,    15.949,    15.949,\n",
      "              15.971001, 16.012001, 16.012001,    16.027, 16.064001,    16.066,\n",
      "                 16.117,    16.117,    16.127, 16.168001, 16.168001,    16.187,\n",
      "                 16.219, 16.227001],\n",
      "             dtype='float64', name='Time(s)')\n",
      "Float64Index([    15.52,     15.52, 15.537001, 15.573001, 15.577001, 15.624001,\n",
      "              15.624001, 15.637001, 15.675001, 15.676001, 15.728001, 15.728001,\n",
      "                 15.737,    15.779, 15.780001, 15.797001,    15.831, 15.837001,\n",
      "              15.889001,     15.89,    15.897,    15.949,    15.949, 15.971001,\n",
      "              16.012001, 16.012001,    16.027, 16.064001,    16.066,    16.117,\n",
      "                 16.117,    16.127, 16.168001, 16.168001,    16.187,    16.219,\n",
      "              16.227001,    16.278,    16.278, 16.286001,     16.34,     16.34,\n",
      "                 16.347, 16.401001, 16.401001, 16.407001, 16.466002, 16.466002,\n",
      "              16.466002,    16.486],\n",
      "             dtype='float64', name='Time(s)')\n",
      "15.25\n",
      "16.25\n",
      "Float64Index([    15.251,  15.261001,  15.295001,  15.301001,  15.340001,\n",
      "               15.340001,  15.385001,  15.385001,  15.401001,      15.43,\n",
      "                  15.442,     15.475,  15.481001,  15.524001,  15.524001,\n",
      "               15.575001,  15.575001,     15.581,  15.624001,  15.624001,\n",
      "               15.643001,  15.674001,  15.681001,  15.722001,  15.722001,\n",
      "               15.740001,  15.766001,  15.780001,  15.811001,  15.821001,\n",
      "                  15.857,  15.861001,  15.910001,  15.910001, 15.9210005,\n",
      "                  15.961,     15.961,  15.981001,     16.013,     16.021,\n",
      "                  16.066,  16.067001,  16.081001,      16.12,      16.12,\n",
      "                  16.176,     16.176,  16.182001,     16.228,     16.229,\n",
      "                  16.243],\n",
      "             dtype='float64', name='Time(s)')\n",
      "Float64Index([ 15.524001,  15.524001,  15.575001,  15.575001,     15.581,\n",
      "               15.624001,  15.624001,  15.643001,  15.674001,  15.681001,\n",
      "               15.722001,  15.722001,  15.740001,  15.766001,  15.780001,\n",
      "               15.811001,  15.821001,     15.857,  15.861001,  15.910001,\n",
      "               15.910001, 15.9210005,     15.961,     15.961,  15.981001,\n",
      "                  16.013,     16.021,     16.066,  16.067001,  16.081001,\n",
      "                   16.12,      16.12,     16.176,     16.176,  16.182001,\n",
      "                  16.228,     16.229,     16.243,     16.281,     16.281,\n",
      "                  16.301,     16.332,      16.34,  16.376001,  16.380001,\n",
      "                  16.426,     16.426,     16.441,     16.475,     16.481],\n",
      "             dtype='float64', name='Time(s)')\n"
     ]
    }
   ],
   "source": [
    "xls_to_records('./data/Du_fri/上樓梯測試.xlsx')"
   ]
  },
  {
   "cell_type": "code",
   "execution_count": 51,
   "metadata": {
    "collapsed": true
   },
   "outputs": [],
   "source": [
    "workbook = xlrd.open_workbook('./data/Du_fri/上樓梯測試.xlsx')"
   ]
  },
  {
   "cell_type": "code",
   "execution_count": 52,
   "metadata": {
    "collapsed": false
   },
   "outputs": [],
   "source": [
    "name_test = workbook.sheet_names()[0]"
   ]
  },
  {
   "cell_type": "code",
   "execution_count": 53,
   "metadata": {
    "collapsed": true
   },
   "outputs": [],
   "source": [
    "worksheet = workbook.sheet_by_name(name_test)"
   ]
  },
  {
   "cell_type": "code",
   "execution_count": 42,
   "metadata": {
    "collapsed": false
   },
   "outputs": [],
   "source": [
    "with open('test.csv', 'w') as csvfile:\n",
    "    wr = csv.writer(csvfile, quoting=csv.QUOTE_ALL)\n",
    "    for rownum in range(worksheet.nrows):\n",
    "        wr.writerow(worksheet.row_values(rownum))\n",
    "        # print(type(worksheet.row_values(rownum)))"
   ]
  },
  {
   "cell_type": "code",
   "execution_count": 43,
   "metadata": {
    "collapsed": true
   },
   "outputs": [],
   "source": [
    "import pandas as pd"
   ]
  },
  {
   "cell_type": "code",
   "execution_count": 44,
   "metadata": {
    "collapsed": false
   },
   "outputs": [],
   "source": [
    "dataset = pd.read_csv('./test.csv', skiprows=1, index_col='Time(s)')"
   ]
  },
  {
   "cell_type": "code",
   "execution_count": 45,
   "metadata": {
    "collapsed": false
   },
   "outputs": [],
   "source": [
    "del dataset['Number']"
   ]
  },
  {
   "cell_type": "code",
   "execution_count": 46,
   "metadata": {
    "collapsed": false
   },
   "outputs": [
    {
     "data": {
      "text/plain": [
       "[<matplotlib.lines.Line2D at 0x1173c00d0>]"
      ]
     },
     "execution_count": 46,
     "metadata": {},
     "output_type": "execute_result"
    },
    {
     "data": {
      "image/png": "[encoded data removed]",
      "text/plain": [
       "<matplotlib.figure.Figure at 0x114fd14d0>"
      ]
     },
     "metadata": {},
     "output_type": "display_data"
    }
   ],
   "source": [
    "plt.plot(dataset['X(g)'])"
   ]
  },
  {
   "cell_type": "code",
   "execution_count": 47,
   "metadata": {
    "collapsed": true
   },
   "outputs": [],
   "source": [
    "import matplotlib.pyplot as plt"
   ]
  },
  {
   "cell_type": "code",
   "execution_count": 48,
   "metadata": {
    "collapsed": true
   },
   "outputs": [],
   "source": [
    "%matplotlib inline"
   ]
  },
  {
   "cell_type": "code",
   "execution_count": 49,
   "metadata": {
    "collapsed": false
   },
   "outputs": [],
   "source": [
    "testDf = dataset[(dataset.index >= 15) & (dataset.index < 20)].copy()"
   ]
  },
  {
   "cell_type": "code",
   "execution_count": 50,
   "metadata": {
    "collapsed": false
   },
   "outputs": [],
   "source": [
    "currentDf = testDf[(testDf.index > 15) & (testDf.index < 16)].copy()"
   ]
  },
  {
   "cell_type": "code",
   "execution_count": 51,
   "metadata": {
    "collapsed": false
   },
   "outputs": [],
   "source": [
    "nextDf = testDf[(testDf.index > 15.25) & (testDf.index < 16.25)].copy()"
   ]
  },
  {
   "cell_type": "code",
   "execution_count": 144,
   "metadata": {
    "collapsed": true
   },
   "outputs": [],
   "source": [
    "g_list = ['X(g)', 'Y(g)', 'Z(g)']"
   ]
  },
  {
   "cell_type": "code",
   "execution_count": 145,
   "metadata": {
    "collapsed": false
   },
   "outputs": [
    {
     "data": {
      "text/plain": [
       "[<matplotlib.lines.Line2D at 0x7feed18a2f28>,\n",
       " <matplotlib.lines.Line2D at 0x7feed18b11d0>,\n",
       " <matplotlib.lines.Line2D at 0x7feed18b13c8>]"
      ]
     },
     "execution_count": 145,
     "metadata": {},
     "output_type": "execute_result"
    },
    {
     "data": {
      "image/png": "[encoded data removed]",
      "text/plain": [
       "<matplotlib.figure.Figure at 0x7feed1e16828>"
      ]
     },
     "metadata": {},
     "output_type": "display_data"
    }
   ],
   "source": [
    "plt.plot(currentDf[g_list])"
   ]
  },
  {
   "cell_type": "code",
   "execution_count": 146,
   "metadata": {
    "collapsed": false
   },
   "outputs": [
    {
     "data": {
      "text/plain": [
       "[<matplotlib.lines.Line2D at 0x7feed1955f60>,\n",
       " <matplotlib.lines.Line2D at 0x7feed196e208>,\n",
       " <matplotlib.lines.Line2D at 0x7feed196e400>]"
      ]
     },
     "execution_count": 146,
     "metadata": {},
     "output_type": "execute_result"
    },
    {
     "data": {
      "image/png": "[encoded data removed]",
      "text/plain": [
       "<matplotlib.figure.Figure at 0x7feed1ddb0f0>"
      ]
     },
     "metadata": {},
     "output_type": "display_data"
    }
   ],
   "source": [
    "plt.plot(nextDf[g_list])"
   ]
  },
  {
   "cell_type": "code",
   "execution_count": 150,
   "metadata": {
    "collapsed": false
   },
   "outputs": [
    {
     "data": {
      "text/plain": [
       "(50, 6)"
      ]
     },
     "execution_count": 150,
     "metadata": {},
     "output_type": "execute_result"
    }
   ],
   "source": [
    "currentDf.shape"
   ]
  },
  {
   "cell_type": "code",
   "execution_count": 168,
   "metadata": {
    "collapsed": false
   },
   "outputs": [
    {
     "data": {
      "text/plain": [
       "[0, 1, 2, 3, 4, 5, 6, 7, 8, 9]"
      ]
     },
     "execution_count": 168,
     "metadata": {},
     "output_type": "execute_result"
    }
   ],
   "source": [
    "list(range(10))"
   ]
  },
  {
   "cell_type": "code",
   "execution_count": 171,
   "metadata": {
    "collapsed": false
   },
   "outputs": [],
   "source": [
    "currentDf.index = list(range(len(currentDf)))"
   ]
  },
  {
   "cell_type": "code",
   "execution_count": 173,
   "metadata": {
    "collapsed": false
   },
   "outputs": [],
   "source": [
    "nextDf.index = list(range(len(nextDf)))"
   ]
  },
  {
   "cell_type": "code",
   "execution_count": 176,
   "metadata": {
    "collapsed": true
   },
   "outputs": [],
   "source": [
    "from sklearn.preprocessing import PolynomialFeatures"
   ]
  },
  {
   "cell_type": "code",
   "execution_count": 177,
   "metadata": {
    "collapsed": true
   },
   "outputs": [],
   "source": [
    "poly = PolynomialFeatures(interaction_only=True)"
   ]
  },
  {
   "cell_type": "code",
   "execution_count": 188,
   "metadata": {
    "collapsed": false
   },
   "outputs": [
    {
     "data": {
      "text/plain": [
       "array([ 0.15220306, -0.02668171, -0.16090987])"
      ]
     },
     "execution_count": 188,
     "metadata": {},
     "output_type": "execute_result"
    }
   ],
   "source": [
    "poly.fit_transform(currentDf[g_list])[:,4:].mean(axis=0)"
   ]
  },
  {
   "cell_type": "code",
   "execution_count": 189,
   "metadata": {
    "collapsed": false
   },
   "outputs": [
    {
     "data": {
      "text/plain": [
       "array([[<matplotlib.axes._subplots.AxesSubplot object at 0x7feeac088128>,\n",
       "        <matplotlib.axes._subplots.AxesSubplot object at 0x7feeac050518>],\n",
       "       [<matplotlib.axes._subplots.AxesSubplot object at 0x7fee8bed27b8>,\n",
       "        <matplotlib.axes._subplots.AxesSubplot object at 0x7fee8bf06cf8>],\n",
       "       [<matplotlib.axes._subplots.AxesSubplot object at 0x7fee8be50e48>,\n",
       "        <matplotlib.axes._subplots.AxesSubplot object at 0x7fee8be5ceb8>]], dtype=object)"
      ]
     },
     "execution_count": 189,
     "metadata": {},
     "output_type": "execute_result"
    },
    {
     "data": {
      "image/png": "[encoded data removed]",
      "text/plain": [
       "<matplotlib.figure.Figure at 0x7feeac088f28>"
      ]
     },
     "metadata": {},
     "output_type": "display_data"
    }
   ],
   "source": [
    "currentDf.hist()"
   ]
  },
  {
   "cell_type": "code",
   "execution_count": 129,
   "metadata": {
    "collapsed": true
   },
   "outputs": [],
   "source": [
    "import numpy as np"
   ]
  },
  {
   "cell_type": "code",
   "execution_count": 137,
   "metadata": {
    "collapsed": false
   },
   "outputs": [
    {
     "data": {
      "text/plain": [
       "[<matplotlib.lines.Line2D at 0x7feeac198b00>,\n",
       " <matplotlib.lines.Line2D at 0x7feeac198d68>,\n",
       " <matplotlib.lines.Line2D at 0x7feeac198f60>]"
      ]
     },
     "execution_count": 137,
     "metadata": {},
     "output_type": "execute_result"
    },
    {
     "data": {
      "image/png": "[encoded data removed]",
      "text/plain": [
       "<matplotlib.figure.Figure at 0x7feeac213390>"
      ]
     },
     "metadata": {},
     "output_type": "display_data"
    }
   ],
   "source": [
    "plt.plot(testDf[['X(g)', 'Y(g)', 'Z(g)']])"
   ]
  },
  {
   "cell_type": "code",
   "execution_count": 130,
   "metadata": {
    "collapsed": false
   },
   "outputs": [
    {
     "data": {
      "text/plain": [
       "X(g)         -0.873977\n",
       "Y(g)          1.116846\n",
       "Z(g)          0.578838\n",
       "R(g)          1.125174\n",
       "Theta(deg)   -0.605122\n",
       "Phi(deg)      1.250313\n",
       "dtype: float64"
      ]
     },
     "execution_count": 130,
     "metadata": {},
     "output_type": "execute_result"
    }
   ],
   "source": [
    "testDf.skew()"
   ]
  },
  {
   "cell_type": "code",
   "execution_count": 131,
   "metadata": {
    "collapsed": false
   },
   "outputs": [
    {
     "data": {
      "text/plain": [
       "X(g)         -0.042225\n",
       "Y(g)          2.014529\n",
       "Z(g)          0.091407\n",
       "R(g)          1.971788\n",
       "Theta(deg)   -0.123584\n",
       "Phi(deg)      1.306923\n",
       "dtype: float64"
      ]
     },
     "execution_count": 131,
     "metadata": {},
     "output_type": "execute_result"
    }
   ],
   "source": [
    "testDf.kurtosis()"
   ]
  },
  {
   "cell_type": "code",
   "execution_count": 132,
   "metadata": {
    "collapsed": false
   },
   "outputs": [
    {
     "data": {
      "text/plain": [
       "X(g)           0.067168\n",
       "Y(g)           0.954999\n",
       "Z(g)           0.056625\n",
       "R(g)           0.976456\n",
       "Theta(deg)    92.967822\n",
       "Phi(deg)      86.551468\n",
       "dtype: float64"
      ]
     },
     "execution_count": 132,
     "metadata": {},
     "output_type": "execute_result"
    }
   ],
   "source": [
    "np.abs(testDf.mean())"
   ]
  },
  {
   "cell_type": "code",
   "execution_count": 133,
   "metadata": {
    "collapsed": false
   },
   "outputs": [
    {
     "data": {
      "text/plain": [
       "X(g)           0.067168\n",
       "Y(g)           0.954999\n",
       "Z(g)          -0.056625\n",
       "R(g)           0.976456\n",
       "Theta(deg)    92.967822\n",
       "Phi(deg)      86.551468\n",
       "dtype: float64"
      ]
     },
     "execution_count": 133,
     "metadata": {},
     "output_type": "execute_result"
    }
   ],
   "source": [
    "testDf.mean()"
   ]
  },
  {
   "cell_type": "code",
   "execution_count": 122,
   "metadata": {
    "collapsed": false
   },
   "outputs": [
    {
     "data": {
      "text/plain": [
       "X(g)          0.038479\n",
       "Y(g)          0.050440\n",
       "Z(g)          0.150602\n",
       "R(g)          0.042242\n",
       "Theta(deg)    8.904922\n",
       "Phi(deg)      2.256170\n",
       "dtype: float64"
      ]
     },
     "execution_count": 122,
     "metadata": {},
     "output_type": "execute_result"
    }
   ],
   "source": [
    "testDf.std()"
   ]
  },
  {
   "cell_type": "code",
   "execution_count": 76,
   "metadata": {
    "collapsed": false
   },
   "outputs": [
    {
     "data": {
      "text/plain": [
       "numpy.float64"
      ]
     },
     "execution_count": 76,
     "metadata": {},
     "output_type": "execute_result"
    }
   ],
   "source": [
    "type(dataset['Time(s)'].iloc[0])"
   ]
  },
  {
   "cell_type": "code",
   "execution_count": 78,
   "metadata": {
    "collapsed": false
   },
   "outputs": [
    {
     "data": {
      "text/plain": [
       "numpy.float64"
      ]
     },
     "execution_count": 78,
     "metadata": {},
     "output_type": "execute_result"
    }
   ],
   "source": [
    "type(dataset['X(g)'].iloc[0])"
   ]
  },
  {
   "cell_type": "code",
   "execution_count": 79,
   "metadata": {
    "collapsed": false
   },
   "outputs": [
    {
     "data": {
      "text/html": [
       "<div>\n",
       "<table border=\"1\" class=\"dataframe\">\n",
       "  <thead>\n",
       "    <tr style=\"text-align: right;\">\n",
       "      <th></th>\n",
       "      <th>Time(s)</th>\n",
       "      <th>X(g)</th>\n",
       "      <th>Y(g)</th>\n",
       "      <th>Z(g)</th>\n",
       "      <th>R(g)</th>\n",
       "      <th>Theta(deg)</th>\n",
       "      <th>Phi(deg)</th>\n",
       "    </tr>\n",
       "    <tr>\n",
       "      <th>Number</th>\n",
       "      <th></th>\n",
       "      <th></th>\n",
       "      <th></th>\n",
       "      <th></th>\n",
       "      <th></th>\n",
       "      <th></th>\n",
       "      <th></th>\n",
       "    </tr>\n",
       "  </thead>\n",
       "  <tbody>\n",
       "    <tr>\n",
       "      <th>1.0</th>\n",
       "      <td>10.062000</td>\n",
       "      <td>-0.046859</td>\n",
       "      <td>0.893250</td>\n",
       "      <td>0.251867</td>\n",
       "      <td>0.929262</td>\n",
       "      <td>74.273840</td>\n",
       "      <td>93.002930</td>\n",
       "    </tr>\n",
       "    <tr>\n",
       "      <th>2.0</th>\n",
       "      <td>10.062000</td>\n",
       "      <td>-0.043930</td>\n",
       "      <td>0.926441</td>\n",
       "      <td>0.246010</td>\n",
       "      <td>0.959554</td>\n",
       "      <td>75.144680</td>\n",
       "      <td>92.714836</td>\n",
       "    </tr>\n",
       "    <tr>\n",
       "      <th>3.0</th>\n",
       "      <td>10.074000</td>\n",
       "      <td>-0.050764</td>\n",
       "      <td>0.918631</td>\n",
       "      <td>0.257724</td>\n",
       "      <td>0.955449</td>\n",
       "      <td>74.351100</td>\n",
       "      <td>93.162970</td>\n",
       "    </tr>\n",
       "    <tr>\n",
       "      <th>4.0</th>\n",
       "      <td>10.100000</td>\n",
       "      <td>-0.029287</td>\n",
       "      <td>0.920584</td>\n",
       "      <td>0.293845</td>\n",
       "      <td>0.966787</td>\n",
       "      <td>72.305620</td>\n",
       "      <td>91.822160</td>\n",
       "    </tr>\n",
       "    <tr>\n",
       "      <th>5.0</th>\n",
       "      <td>10.135000</td>\n",
       "      <td>-0.044907</td>\n",
       "      <td>0.931322</td>\n",
       "      <td>0.270415</td>\n",
       "      <td>0.970826</td>\n",
       "      <td>73.826810</td>\n",
       "      <td>92.760550</td>\n",
       "    </tr>\n",
       "    <tr>\n",
       "      <th>6.0</th>\n",
       "      <td>10.135000</td>\n",
       "      <td>-0.048811</td>\n",
       "      <td>0.927417</td>\n",
       "      <td>0.250891</td>\n",
       "      <td>0.961994</td>\n",
       "      <td>74.882286</td>\n",
       "      <td>93.012790</td>\n",
       "    </tr>\n",
       "    <tr>\n",
       "      <th>7.0</th>\n",
       "      <td>10.167001</td>\n",
       "      <td>-0.014643</td>\n",
       "      <td>0.984039</td>\n",
       "      <td>0.254796</td>\n",
       "      <td>1.016596</td>\n",
       "      <td>75.484840</td>\n",
       "      <td>90.852554</td>\n",
       "    </tr>\n",
       "    <tr>\n",
       "      <th>8.0</th>\n",
       "      <td>10.178000</td>\n",
       "      <td>-0.054669</td>\n",
       "      <td>0.932299</td>\n",
       "      <td>0.285059</td>\n",
       "      <td>0.976436</td>\n",
       "      <td>73.025986</td>\n",
       "      <td>93.355910</td>\n",
       "    </tr>\n",
       "    <tr>\n",
       "      <th>9.0</th>\n",
       "      <td>10.201000</td>\n",
       "      <td>-0.084932</td>\n",
       "      <td>0.956704</td>\n",
       "      <td>0.292869</td>\n",
       "      <td>1.004126</td>\n",
       "      <td>73.042320</td>\n",
       "      <td>95.073166</td>\n",
       "    </tr>\n",
       "    <tr>\n",
       "      <th>10.0</th>\n",
       "      <td>10.274000</td>\n",
       "      <td>-0.085908</td>\n",
       "      <td>0.966467</td>\n",
       "      <td>0.229414</td>\n",
       "      <td>0.997030</td>\n",
       "      <td>76.697205</td>\n",
       "      <td>95.079605</td>\n",
       "    </tr>\n",
       "    <tr>\n",
       "      <th>11.0</th>\n",
       "      <td>10.274000</td>\n",
       "      <td>-0.050764</td>\n",
       "      <td>0.946942</td>\n",
       "      <td>0.276273</td>\n",
       "      <td>0.987726</td>\n",
       "      <td>73.757350</td>\n",
       "      <td>93.068590</td>\n",
       "    </tr>\n",
       "    <tr>\n",
       "      <th>12.0</th>\n",
       "      <td>10.274000</td>\n",
       "      <td>-0.039049</td>\n",
       "      <td>0.890321</td>\n",
       "      <td>0.324108</td>\n",
       "      <td>0.948284</td>\n",
       "      <td>70.014410</td>\n",
       "      <td>92.511360</td>\n",
       "    </tr>\n",
       "    <tr>\n",
       "      <th>13.0</th>\n",
       "      <td>10.274000</td>\n",
       "      <td>-0.010739</td>\n",
       "      <td>0.911798</td>\n",
       "      <td>0.278225</td>\n",
       "      <td>0.953362</td>\n",
       "      <td>73.032104</td>\n",
       "      <td>90.674760</td>\n",
       "    </tr>\n",
       "    <tr>\n",
       "      <th>14.0</th>\n",
       "      <td>10.294001</td>\n",
       "      <td>-0.036120</td>\n",
       "      <td>0.903012</td>\n",
       "      <td>0.276273</td>\n",
       "      <td>0.945019</td>\n",
       "      <td>73.001526</td>\n",
       "      <td>92.290610</td>\n",
       "    </tr>\n",
       "    <tr>\n",
       "      <th>15.0</th>\n",
       "      <td>10.319000</td>\n",
       "      <td>-0.035144</td>\n",
       "      <td>0.978182</td>\n",
       "      <td>0.222580</td>\n",
       "      <td>1.003801</td>\n",
       "      <td>77.188896</td>\n",
       "      <td>92.057650</td>\n",
       "    </tr>\n",
       "    <tr>\n",
       "      <th>16.0</th>\n",
       "      <td>10.334001</td>\n",
       "      <td>-0.055645</td>\n",
       "      <td>0.953776</td>\n",
       "      <td>0.271392</td>\n",
       "      <td>0.993196</td>\n",
       "      <td>74.142200</td>\n",
       "      <td>93.338960</td>\n",
       "    </tr>\n",
       "    <tr>\n",
       "      <th>17.0</th>\n",
       "      <td>10.354000</td>\n",
       "      <td>-0.062479</td>\n",
       "      <td>0.950847</td>\n",
       "      <td>0.237224</td>\n",
       "      <td>0.981982</td>\n",
       "      <td>76.020410</td>\n",
       "      <td>93.759410</td>\n",
       "    </tr>\n",
       "    <tr>\n",
       "      <th>18.0</th>\n",
       "      <td>10.374001</td>\n",
       "      <td>-0.044907</td>\n",
       "      <td>0.933275</td>\n",
       "      <td>0.257724</td>\n",
       "      <td>0.969247</td>\n",
       "      <td>74.579470</td>\n",
       "      <td>92.754780</td>\n",
       "    </tr>\n",
       "    <tr>\n",
       "      <th>19.0</th>\n",
       "      <td>10.396001</td>\n",
       "      <td>-0.052716</td>\n",
       "      <td>0.911798</td>\n",
       "      <td>0.256748</td>\n",
       "      <td>0.948722</td>\n",
       "      <td>74.298520</td>\n",
       "      <td>93.308920</td>\n",
       "    </tr>\n",
       "    <tr>\n",
       "      <th>20.0</th>\n",
       "      <td>10.421000</td>\n",
       "      <td>-0.028311</td>\n",
       "      <td>0.955728</td>\n",
       "      <td>0.166935</td>\n",
       "      <td>0.970611</td>\n",
       "      <td>80.096470</td>\n",
       "      <td>91.696724</td>\n",
       "    </tr>\n",
       "    <tr>\n",
       "      <th>21.0</th>\n",
       "      <td>10.434001</td>\n",
       "      <td>-0.072241</td>\n",
       "      <td>0.958657</td>\n",
       "      <td>0.196222</td>\n",
       "      <td>0.981196</td>\n",
       "      <td>78.464060</td>\n",
       "      <td>94.309456</td>\n",
       "    </tr>\n",
       "    <tr>\n",
       "      <th>22.0</th>\n",
       "      <td>10.454000</td>\n",
       "      <td>-0.114219</td>\n",
       "      <td>0.951823</td>\n",
       "      <td>0.222580</td>\n",
       "      <td>0.984152</td>\n",
       "      <td>76.928640</td>\n",
       "      <td>96.842770</td>\n",
       "    </tr>\n",
       "    <tr>\n",
       "      <th>23.0</th>\n",
       "      <td>10.475000</td>\n",
       "      <td>-0.113243</td>\n",
       "      <td>0.984039</td>\n",
       "      <td>0.224533</td>\n",
       "      <td>1.015663</td>\n",
       "      <td>77.228110</td>\n",
       "      <td>96.564680</td>\n",
       "    </tr>\n",
       "    <tr>\n",
       "      <th>24.0</th>\n",
       "      <td>10.501000</td>\n",
       "      <td>-0.050764</td>\n",
       "      <td>0.982086</td>\n",
       "      <td>0.244057</td>\n",
       "      <td>1.013230</td>\n",
       "      <td>76.062070</td>\n",
       "      <td>92.958980</td>\n",
       "    </tr>\n",
       "    <tr>\n",
       "      <th>25.0</th>\n",
       "      <td>10.514001</td>\n",
       "      <td>-0.054669</td>\n",
       "      <td>0.901059</td>\n",
       "      <td>0.263582</td>\n",
       "      <td>0.940411</td>\n",
       "      <td>73.722855</td>\n",
       "      <td>93.471980</td>\n",
       "    </tr>\n",
       "    <tr>\n",
       "      <th>26.0</th>\n",
       "      <td>10.534000</td>\n",
       "      <td>-0.017572</td>\n",
       "      <td>0.877630</td>\n",
       "      <td>0.294821</td>\n",
       "      <td>0.925993</td>\n",
       "      <td>71.434784</td>\n",
       "      <td>91.147030</td>\n",
       "    </tr>\n",
       "    <tr>\n",
       "      <th>27.0</th>\n",
       "      <td>10.555000</td>\n",
       "      <td>-0.010739</td>\n",
       "      <td>0.873725</td>\n",
       "      <td>0.291892</td>\n",
       "      <td>0.921256</td>\n",
       "      <td>71.527950</td>\n",
       "      <td>90.704155</td>\n",
       "    </tr>\n",
       "    <tr>\n",
       "      <th>28.0</th>\n",
       "      <td>10.579000</td>\n",
       "      <td>-0.028311</td>\n",
       "      <td>0.904964</td>\n",
       "      <td>0.265534</td>\n",
       "      <td>0.943541</td>\n",
       "      <td>73.654850</td>\n",
       "      <td>91.791840</td>\n",
       "    </tr>\n",
       "    <tr>\n",
       "      <th>29.0</th>\n",
       "      <td>10.594001</td>\n",
       "      <td>-0.029287</td>\n",
       "      <td>0.944013</td>\n",
       "      <td>0.226485</td>\n",
       "      <td>0.971244</td>\n",
       "      <td>76.515000</td>\n",
       "      <td>91.776960</td>\n",
       "    </tr>\n",
       "    <tr>\n",
       "      <th>30.0</th>\n",
       "      <td>10.626000</td>\n",
       "      <td>-0.072241</td>\n",
       "      <td>0.936204</td>\n",
       "      <td>0.189388</td>\n",
       "      <td>0.957896</td>\n",
       "      <td>78.596750</td>\n",
       "      <td>94.412415</td>\n",
       "    </tr>\n",
       "    <tr>\n",
       "      <th>...</th>\n",
       "      <td>...</td>\n",
       "      <td>...</td>\n",
       "      <td>...</td>\n",
       "      <td>...</td>\n",
       "      <td>...</td>\n",
       "      <td>...</td>\n",
       "      <td>...</td>\n",
       "    </tr>\n",
       "    <tr>\n",
       "      <th>925.0</th>\n",
       "      <td>28.674002</td>\n",
       "      <td>0.007810</td>\n",
       "      <td>0.959633</td>\n",
       "      <td>-0.059550</td>\n",
       "      <td>0.961511</td>\n",
       "      <td>93.550810</td>\n",
       "      <td>89.533714</td>\n",
       "    </tr>\n",
       "    <tr>\n",
       "      <th>926.0</th>\n",
       "      <td>28.684002</td>\n",
       "      <td>0.031239</td>\n",
       "      <td>0.957681</td>\n",
       "      <td>-0.104457</td>\n",
       "      <td>0.963867</td>\n",
       "      <td>96.221500</td>\n",
       "      <td>88.131680</td>\n",
       "    </tr>\n",
       "    <tr>\n",
       "      <th>927.0</th>\n",
       "      <td>28.719002</td>\n",
       "      <td>0.007810</td>\n",
       "      <td>0.967443</td>\n",
       "      <td>0.044907</td>\n",
       "      <td>0.968516</td>\n",
       "      <td>87.342450</td>\n",
       "      <td>89.537480</td>\n",
       "    </tr>\n",
       "    <tr>\n",
       "      <th>928.0</th>\n",
       "      <td>28.725002</td>\n",
       "      <td>-0.039049</td>\n",
       "      <td>0.988920</td>\n",
       "      <td>0.023429</td>\n",
       "      <td>0.989968</td>\n",
       "      <td>88.643860</td>\n",
       "      <td>92.261246</td>\n",
       "    </tr>\n",
       "    <tr>\n",
       "      <th>929.0</th>\n",
       "      <td>28.769001</td>\n",
       "      <td>-0.013667</td>\n",
       "      <td>1.013326</td>\n",
       "      <td>-0.034168</td>\n",
       "      <td>1.013994</td>\n",
       "      <td>91.931030</td>\n",
       "      <td>90.772730</td>\n",
       "    </tr>\n",
       "    <tr>\n",
       "      <th>930.0</th>\n",
       "      <td>28.769001</td>\n",
       "      <td>-0.004881</td>\n",
       "      <td>0.988920</td>\n",
       "      <td>-0.004881</td>\n",
       "      <td>0.988944</td>\n",
       "      <td>90.282800</td>\n",
       "      <td>90.282800</td>\n",
       "    </tr>\n",
       "    <tr>\n",
       "      <th>931.0</th>\n",
       "      <td>28.784002</td>\n",
       "      <td>-0.024406</td>\n",
       "      <td>0.959633</td>\n",
       "      <td>0.023429</td>\n",
       "      <td>0.960229</td>\n",
       "      <td>88.601850</td>\n",
       "      <td>91.456856</td>\n",
       "    </tr>\n",
       "    <tr>\n",
       "      <th>932.0</th>\n",
       "      <td>28.818000</td>\n",
       "      <td>-0.029287</td>\n",
       "      <td>0.954752</td>\n",
       "      <td>0.010739</td>\n",
       "      <td>0.955261</td>\n",
       "      <td>89.355896</td>\n",
       "      <td>91.756990</td>\n",
       "    </tr>\n",
       "    <tr>\n",
       "      <th>933.0</th>\n",
       "      <td>28.824001</td>\n",
       "      <td>-0.032216</td>\n",
       "      <td>0.955728</td>\n",
       "      <td>0.014643</td>\n",
       "      <td>0.956383</td>\n",
       "      <td>89.122696</td>\n",
       "      <td>91.930590</td>\n",
       "    </tr>\n",
       "    <tr>\n",
       "      <th>934.0</th>\n",
       "      <td>28.859001</td>\n",
       "      <td>-0.033192</td>\n",
       "      <td>0.957681</td>\n",
       "      <td>0.020501</td>\n",
       "      <td>0.958475</td>\n",
       "      <td>88.774410</td>\n",
       "      <td>91.984990</td>\n",
       "    </tr>\n",
       "    <tr>\n",
       "      <th>935.0</th>\n",
       "      <td>28.864002</td>\n",
       "      <td>-0.036120</td>\n",
       "      <td>0.960609</td>\n",
       "      <td>0.018548</td>\n",
       "      <td>0.961467</td>\n",
       "      <td>88.894600</td>\n",
       "      <td>92.153400</td>\n",
       "    </tr>\n",
       "    <tr>\n",
       "      <th>936.0</th>\n",
       "      <td>28.898000</td>\n",
       "      <td>-0.031239</td>\n",
       "      <td>0.954752</td>\n",
       "      <td>0.024406</td>\n",
       "      <td>0.955575</td>\n",
       "      <td>88.536480</td>\n",
       "      <td>91.874040</td>\n",
       "    </tr>\n",
       "    <tr>\n",
       "      <th>937.0</th>\n",
       "      <td>28.904001</td>\n",
       "      <td>-0.053693</td>\n",
       "      <td>0.963538</td>\n",
       "      <td>0.057598</td>\n",
       "      <td>0.966750</td>\n",
       "      <td>86.584380</td>\n",
       "      <td>93.189476</td>\n",
       "    </tr>\n",
       "    <tr>\n",
       "      <th>938.0</th>\n",
       "      <td>28.948002</td>\n",
       "      <td>-0.050764</td>\n",
       "      <td>0.965491</td>\n",
       "      <td>0.062479</td>\n",
       "      <td>0.968841</td>\n",
       "      <td>86.302540</td>\n",
       "      <td>93.009750</td>\n",
       "    </tr>\n",
       "    <tr>\n",
       "      <th>939.0</th>\n",
       "      <td>28.948002</td>\n",
       "      <td>-0.038073</td>\n",
       "      <td>0.960609</td>\n",
       "      <td>0.048811</td>\n",
       "      <td>0.962602</td>\n",
       "      <td>87.093410</td>\n",
       "      <td>92.269684</td>\n",
       "    </tr>\n",
       "    <tr>\n",
       "      <th>940.0</th>\n",
       "      <td>28.964000</td>\n",
       "      <td>-0.048811</td>\n",
       "      <td>0.962562</td>\n",
       "      <td>0.065407</td>\n",
       "      <td>0.966016</td>\n",
       "      <td>86.117620</td>\n",
       "      <td>92.902980</td>\n",
       "    </tr>\n",
       "    <tr>\n",
       "      <th>941.0</th>\n",
       "      <td>28.992000</td>\n",
       "      <td>-0.030263</td>\n",
       "      <td>0.967443</td>\n",
       "      <td>0.065407</td>\n",
       "      <td>0.970124</td>\n",
       "      <td>86.134094</td>\n",
       "      <td>91.791720</td>\n",
       "    </tr>\n",
       "    <tr>\n",
       "      <th>942.0</th>\n",
       "      <td>29.004002</td>\n",
       "      <td>-0.037097</td>\n",
       "      <td>0.962562</td>\n",
       "      <td>0.064431</td>\n",
       "      <td>0.965429</td>\n",
       "      <td>86.173330</td>\n",
       "      <td>92.207060</td>\n",
       "    </tr>\n",
       "    <tr>\n",
       "      <th>943.0</th>\n",
       "      <td>29.040000</td>\n",
       "      <td>-0.035144</td>\n",
       "      <td>0.965491</td>\n",
       "      <td>0.060526</td>\n",
       "      <td>0.968024</td>\n",
       "      <td>86.415215</td>\n",
       "      <td>92.084670</td>\n",
       "    </tr>\n",
       "    <tr>\n",
       "      <th>944.0</th>\n",
       "      <td>29.044000</td>\n",
       "      <td>-0.027334</td>\n",
       "      <td>0.950847</td>\n",
       "      <td>0.043930</td>\n",
       "      <td>0.952254</td>\n",
       "      <td>87.355835</td>\n",
       "      <td>91.646650</td>\n",
       "    </tr>\n",
       "    <tr>\n",
       "      <th>945.0</th>\n",
       "      <td>29.092001</td>\n",
       "      <td>-0.029287</td>\n",
       "      <td>0.956704</td>\n",
       "      <td>0.049788</td>\n",
       "      <td>0.958447</td>\n",
       "      <td>87.022360</td>\n",
       "      <td>91.753400</td>\n",
       "    </tr>\n",
       "    <tr>\n",
       "      <th>946.0</th>\n",
       "      <td>29.092001</td>\n",
       "      <td>-0.019525</td>\n",
       "      <td>0.956704</td>\n",
       "      <td>0.043930</td>\n",
       "      <td>0.957912</td>\n",
       "      <td>87.371470</td>\n",
       "      <td>91.169136</td>\n",
       "    </tr>\n",
       "    <tr>\n",
       "      <th>947.0</th>\n",
       "      <td>29.104002</td>\n",
       "      <td>-0.021477</td>\n",
       "      <td>0.949871</td>\n",
       "      <td>0.028311</td>\n",
       "      <td>0.950535</td>\n",
       "      <td>88.293260</td>\n",
       "      <td>91.295265</td>\n",
       "    </tr>\n",
       "    <tr>\n",
       "      <th>948.0</th>\n",
       "      <td>29.143002</td>\n",
       "      <td>-0.024406</td>\n",
       "      <td>0.957681</td>\n",
       "      <td>0.050764</td>\n",
       "      <td>0.959336</td>\n",
       "      <td>86.966736</td>\n",
       "      <td>91.459820</td>\n",
       "    </tr>\n",
       "    <tr>\n",
       "      <th>949.0</th>\n",
       "      <td>29.144001</td>\n",
       "      <td>-0.022453</td>\n",
       "      <td>0.978182</td>\n",
       "      <td>0.056621</td>\n",
       "      <td>0.980076</td>\n",
       "      <td>86.688040</td>\n",
       "      <td>91.314940</td>\n",
       "    </tr>\n",
       "    <tr>\n",
       "      <th>950.0</th>\n",
       "      <td>29.193000</td>\n",
       "      <td>-0.024406</td>\n",
       "      <td>0.976229</td>\n",
       "      <td>0.051740</td>\n",
       "      <td>0.977904</td>\n",
       "      <td>86.967110</td>\n",
       "      <td>91.432100</td>\n",
       "    </tr>\n",
       "    <tr>\n",
       "      <th>951.0</th>\n",
       "      <td>29.194002</td>\n",
       "      <td>-0.020501</td>\n",
       "      <td>0.963538</td>\n",
       "      <td>0.049788</td>\n",
       "      <td>0.965041</td>\n",
       "      <td>87.042725</td>\n",
       "      <td>91.218870</td>\n",
       "    </tr>\n",
       "    <tr>\n",
       "      <th>952.0</th>\n",
       "      <td>29.247002</td>\n",
       "      <td>-0.024406</td>\n",
       "      <td>0.963538</td>\n",
       "      <td>0.055645</td>\n",
       "      <td>0.965452</td>\n",
       "      <td>86.695854</td>\n",
       "      <td>91.450950</td>\n",
       "    </tr>\n",
       "    <tr>\n",
       "      <th>953.0</th>\n",
       "      <td>29.247002</td>\n",
       "      <td>-0.021477</td>\n",
       "      <td>0.964514</td>\n",
       "      <td>0.061502</td>\n",
       "      <td>0.966712</td>\n",
       "      <td>86.352360</td>\n",
       "      <td>91.275604</td>\n",
       "    </tr>\n",
       "    <tr>\n",
       "      <th>954.0</th>\n",
       "      <td>29.255001</td>\n",
       "      <td>-0.023429</td>\n",
       "      <td>0.956704</td>\n",
       "      <td>0.047835</td>\n",
       "      <td>0.958186</td>\n",
       "      <td>87.138450</td>\n",
       "      <td>91.402880</td>\n",
       "    </tr>\n",
       "  </tbody>\n",
       "</table>\n",
       "<p>954 rows × 7 columns</p>\n",
       "</div>"
      ],
      "text/plain": [
       "          Time(s)      X(g)      Y(g)      Z(g)      R(g)  Theta(deg)  \\\n",
       "Number                                                                  \n",
       "1.0     10.062000 -0.046859  0.893250  0.251867  0.929262   74.273840   \n",
       "2.0     10.062000 -0.043930  0.926441  0.246010  0.959554   75.144680   \n",
       "3.0     10.074000 -0.050764  0.918631  0.257724  0.955449   74.351100   \n",
       "4.0     10.100000 -0.029287  0.920584  0.293845  0.966787   72.305620   \n",
       "5.0     10.135000 -0.044907  0.931322  0.270415  0.970826   73.826810   \n",
       "6.0     10.135000 -0.048811  0.927417  0.250891  0.961994   74.882286   \n",
       "7.0     10.167001 -0.014643  0.984039  0.254796  1.016596   75.484840   \n",
       "8.0     10.178000 -0.054669  0.932299  0.285059  0.976436   73.025986   \n",
       "9.0     10.201000 -0.084932  0.956704  0.292869  1.004126   73.042320   \n",
       "10.0    10.274000 -0.085908  0.966467  0.229414  0.997030   76.697205   \n",
       "11.0    10.274000 -0.050764  0.946942  0.276273  0.987726   73.757350   \n",
       "12.0    10.274000 -0.039049  0.890321  0.324108  0.948284   70.014410   \n",
       "13.0    10.274000 -0.010739  0.911798  0.278225  0.953362   73.032104   \n",
       "14.0    10.294001 -0.036120  0.903012  0.276273  0.945019   73.001526   \n",
       "15.0    10.319000 -0.035144  0.978182  0.222580  1.003801   77.188896   \n",
       "16.0    10.334001 -0.055645  0.953776  0.271392  0.993196   74.142200   \n",
       "17.0    10.354000 -0.062479  0.950847  0.237224  0.981982   76.020410   \n",
       "18.0    10.374001 -0.044907  0.933275  0.257724  0.969247   74.579470   \n",
       "19.0    10.396001 -0.052716  0.911798  0.256748  0.948722   74.298520   \n",
       "20.0    10.421000 -0.028311  0.955728  0.166935  0.970611   80.096470   \n",
       "21.0    10.434001 -0.072241  0.958657  0.196222  0.981196   78.464060   \n",
       "22.0    10.454000 -0.114219  0.951823  0.222580  0.984152   76.928640   \n",
       "23.0    10.475000 -0.113243  0.984039  0.224533  1.015663   77.228110   \n",
       "24.0    10.501000 -0.050764  0.982086  0.244057  1.013230   76.062070   \n",
       "25.0    10.514001 -0.054669  0.901059  0.263582  0.940411   73.722855   \n",
       "26.0    10.534000 -0.017572  0.877630  0.294821  0.925993   71.434784   \n",
       "27.0    10.555000 -0.010739  0.873725  0.291892  0.921256   71.527950   \n",
       "28.0    10.579000 -0.028311  0.904964  0.265534  0.943541   73.654850   \n",
       "29.0    10.594001 -0.029287  0.944013  0.226485  0.971244   76.515000   \n",
       "30.0    10.626000 -0.072241  0.936204  0.189388  0.957896   78.596750   \n",
       "...           ...       ...       ...       ...       ...         ...   \n",
       "925.0   28.674002  0.007810  0.959633 -0.059550  0.961511   93.550810   \n",
       "926.0   28.684002  0.031239  0.957681 -0.104457  0.963867   96.221500   \n",
       "927.0   28.719002  0.007810  0.967443  0.044907  0.968516   87.342450   \n",
       "928.0   28.725002 -0.039049  0.988920  0.023429  0.989968   88.643860   \n",
       "929.0   28.769001 -0.013667  1.013326 -0.034168  1.013994   91.931030   \n",
       "930.0   28.769001 -0.004881  0.988920 -0.004881  0.988944   90.282800   \n",
       "931.0   28.784002 -0.024406  0.959633  0.023429  0.960229   88.601850   \n",
       "932.0   28.818000 -0.029287  0.954752  0.010739  0.955261   89.355896   \n",
       "933.0   28.824001 -0.032216  0.955728  0.014643  0.956383   89.122696   \n",
       "934.0   28.859001 -0.033192  0.957681  0.020501  0.958475   88.774410   \n",
       "935.0   28.864002 -0.036120  0.960609  0.018548  0.961467   88.894600   \n",
       "936.0   28.898000 -0.031239  0.954752  0.024406  0.955575   88.536480   \n",
       "937.0   28.904001 -0.053693  0.963538  0.057598  0.966750   86.584380   \n",
       "938.0   28.948002 -0.050764  0.965491  0.062479  0.968841   86.302540   \n",
       "939.0   28.948002 -0.038073  0.960609  0.048811  0.962602   87.093410   \n",
       "940.0   28.964000 -0.048811  0.962562  0.065407  0.966016   86.117620   \n",
       "941.0   28.992000 -0.030263  0.967443  0.065407  0.970124   86.134094   \n",
       "942.0   29.004002 -0.037097  0.962562  0.064431  0.965429   86.173330   \n",
       "943.0   29.040000 -0.035144  0.965491  0.060526  0.968024   86.415215   \n",
       "944.0   29.044000 -0.027334  0.950847  0.043930  0.952254   87.355835   \n",
       "945.0   29.092001 -0.029287  0.956704  0.049788  0.958447   87.022360   \n",
       "946.0   29.092001 -0.019525  0.956704  0.043930  0.957912   87.371470   \n",
       "947.0   29.104002 -0.021477  0.949871  0.028311  0.950535   88.293260   \n",
       "948.0   29.143002 -0.024406  0.957681  0.050764  0.959336   86.966736   \n",
       "949.0   29.144001 -0.022453  0.978182  0.056621  0.980076   86.688040   \n",
       "950.0   29.193000 -0.024406  0.976229  0.051740  0.977904   86.967110   \n",
       "951.0   29.194002 -0.020501  0.963538  0.049788  0.965041   87.042725   \n",
       "952.0   29.247002 -0.024406  0.963538  0.055645  0.965452   86.695854   \n",
       "953.0   29.247002 -0.021477  0.964514  0.061502  0.966712   86.352360   \n",
       "954.0   29.255001 -0.023429  0.956704  0.047835  0.958186   87.138450   \n",
       "\n",
       "         Phi(deg)  \n",
       "Number             \n",
       "1.0     93.002930  \n",
       "2.0     92.714836  \n",
       "3.0     93.162970  \n",
       "4.0     91.822160  \n",
       "5.0     92.760550  \n",
       "6.0     93.012790  \n",
       "7.0     90.852554  \n",
       "8.0     93.355910  \n",
       "9.0     95.073166  \n",
       "10.0    95.079605  \n",
       "11.0    93.068590  \n",
       "12.0    92.511360  \n",
       "13.0    90.674760  \n",
       "14.0    92.290610  \n",
       "15.0    92.057650  \n",
       "16.0    93.338960  \n",
       "17.0    93.759410  \n",
       "18.0    92.754780  \n",
       "19.0    93.308920  \n",
       "20.0    91.696724  \n",
       "21.0    94.309456  \n",
       "22.0    96.842770  \n",
       "23.0    96.564680  \n",
       "24.0    92.958980  \n",
       "25.0    93.471980  \n",
       "26.0    91.147030  \n",
       "27.0    90.704155  \n",
       "28.0    91.791840  \n",
       "29.0    91.776960  \n",
       "30.0    94.412415  \n",
       "...           ...  \n",
       "925.0   89.533714  \n",
       "926.0   88.131680  \n",
       "927.0   89.537480  \n",
       "928.0   92.261246  \n",
       "929.0   90.772730  \n",
       "930.0   90.282800  \n",
       "931.0   91.456856  \n",
       "932.0   91.756990  \n",
       "933.0   91.930590  \n",
       "934.0   91.984990  \n",
       "935.0   92.153400  \n",
       "936.0   91.874040  \n",
       "937.0   93.189476  \n",
       "938.0   93.009750  \n",
       "939.0   92.269684  \n",
       "940.0   92.902980  \n",
       "941.0   91.791720  \n",
       "942.0   92.207060  \n",
       "943.0   92.084670  \n",
       "944.0   91.646650  \n",
       "945.0   91.753400  \n",
       "946.0   91.169136  \n",
       "947.0   91.295265  \n",
       "948.0   91.459820  \n",
       "949.0   91.314940  \n",
       "950.0   91.432100  \n",
       "951.0   91.218870  \n",
       "952.0   91.450950  \n",
       "953.0   91.275604  \n",
       "954.0   91.402880  \n",
       "\n",
       "[954 rows x 7 columns]"
      ]
     },
     "execution_count": 79,
     "metadata": {},
     "output_type": "execute_result"
    }
   ],
   "source": [
    "dataset"
   ]
  },
  {
   "cell_type": "code",
   "execution_count": 197,
   "metadata": {
    "collapsed": false
   },
   "outputs": [
    {
     "data": {
      "text/plain": [
       "numpy.complex128"
      ]
     },
     "execution_count": 197,
     "metadata": {},
     "output_type": "execute_result"
    }
   ],
   "source": [
    "type(np.fft.fft(currentDf['X(g)'])[0])"
   ]
  }
 ],
 "metadata": {
  "anaconda-cloud": {},
  "kernelspec": {
   "display_name": "Python 2",
   "language": "python",
   "name": "python2"
  },
  "language_info": {
   "codemirror_mode": {
    "name": "ipython",
    "version": 2
   },
   "file_extension": ".py",
   "mimetype": "text/x-python",
   "name": "python",
   "nbconvert_exporter": "python",
   "pygments_lexer": "ipython2",
   "version": "2.7.12"
  },
  "latex_envs": {
   "bibliofile": "biblio.bib",
   "cite_by": "apalike",
   "current_citInitial": 1,
   "eqLabelWithNumbers": true,
   "eqNumInitial": 0
  }
 },
 "nbformat": 4,
 "nbformat_minor": 0
}
